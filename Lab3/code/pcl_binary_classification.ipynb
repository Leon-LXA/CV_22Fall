{
 "cells": [
  {
   "cell_type": "markdown",
   "metadata": {},
   "source": [
    "# Point Cloud Binary Classification with PyTorch"
   ]
  },
  {
   "cell_type": "markdown",
   "metadata": {},
   "source": [
    "Make sure you are using the `dl4cv` conda environment."
   ]
  },
  {
   "cell_type": "markdown",
   "metadata": {},
   "source": [
    "## Dataset loading and visualization"
   ]
  },
  {
   "cell_type": "markdown",
   "metadata": {},
   "source": [
    "The input X contain 100 2D points, and y are their corresponding labels (0 or 1). The goal is to train a model that can classify every point to its correct label.\n"
   ]
  },
  {
   "cell_type": "code",
   "execution_count": 1,
   "metadata": {},
   "outputs": [
    {
     "data": {
      "text/plain": "<Figure size 432x288 with 1 Axes>",
      "image/png": "[encoded data removed]"
     },
     "metadata": {
      "needs_background": "light"
     },
     "output_type": "display_data"
    },
    {
     "data": {
      "text/plain": "<Figure size 432x288 with 0 Axes>"
     },
     "metadata": {},
     "output_type": "display_data"
    }
   ],
   "source": [
    "%matplotlib inline\n",
    "import matplotlib.pyplot as plt\n",
    "import numpy as np\n",
    "import torch\n",
    "import torch.nn as nn\n",
    "import torch.nn.functional as F\n",
    "import torch.optim as optim\n",
    "from torch.utils.data import Dataset\n",
    "from torch.utils.data import DataLoader\n",
    "from torch.optim import Adam\n",
    "\n",
    "dataset = np.load('data/2d_pcl_dataset.npz')\n",
    "X, y = dataset['X'], dataset['y']\n",
    "\n",
    "X0 = X[y==0] # 50 2D points have label 0\n",
    "X1 = X[y==1] # 50 2D points have label 1\n",
    "\n",
    "def plot(X0, X1, fit_param=None):\n",
    "    plt.scatter(X0[:,0], X0[:,1], color='red', label=0)\n",
    "    plt.scatter(X1[:,0], X1[:,1], color='blue', label=1)\n",
    "    \n",
    "    plt.xlim([-0.55, 0.55])\n",
    "    plt.ylim([-0.35, 0.25])\n",
    "    plt.legend()\n",
    "    plt.show()\n",
    "    plt.clf()\n",
    "\n",
    "plot(X0, X1)"
   ]
  },
  {
   "cell_type": "markdown",
   "metadata": {},
   "source": [
    "## Logistic Regression for the point cloud classification task\n"
   ]
  },
  {
   "cell_type": "markdown",
   "metadata": {},
   "source": [
    "Starting by filling in the `Simple2DDataset` class below. First, in the class constructore `__init__`, you will need to read the right `2d_pcl_dataset.npz` from disk.\n",
    "\n",
    "Second, in the `__getitem__`, you will need to take a single data point and its label based on its index `idx`"
   ]
  },
  {
   "cell_type": "code",
   "execution_count": 2,
   "metadata": {},
   "outputs": [],
   "source": [
    "class Simple2DDataset(Dataset):\n",
    "    def __init__(self):\n",
    "        super().__init__()\n",
    "        #########################################################################\n",
    "        # TODO: read data from disk using np.load.\n",
    "        # Data is located in the folder \"data\".\n",
    "        # Save samples and labels to class members self.X and self.y respectively.\n",
    "        # samples should be an Nx2 numpy array. Labels should be Nx1.\n",
    "        #########################################################################\n",
    "        self.X = 0\n",
    "        self.y = 0\n",
    "        A = np.load('./data/2d_pcl_dataset.npz')\n",
    "#         print(A)\n",
    "        self.X = A['X']\n",
    "        self.Y = A['y']\n",
    "     \n",
    "    def __len__(self):\n",
    "        # Returns the number of samples in the dataset.\n",
    "        return self.X.shape[0]\n",
    "#         return 1\n",
    "    \n",
    "    def __getitem__(self, idx):\n",
    "        #########################################################################\n",
    "        # TODO: return the sample and label with index idx\n",
    "        #########################################################################\n",
    "        point = self.X[idx]\n",
    "        label = self.Y[idx]\n",
    "        \n",
    "        # Convert to tensor.\n",
    "        return torch.from_numpy(point).float(), \\\n",
    "               torch.from_numpy(label[np.newaxis]).float()\n"
   ]
  },
  {
   "cell_type": "markdown",
   "metadata": {},
   "source": [
    "With the complete `Simple2DDataset`, we can create a PyTorch dataloader\n",
    "\n",
    "**NOTE**: if you encounter some unexpected errors in data loading, try setting `NUM_WORKERS = 0`"
   ]
  },
  {
   "cell_type": "code",
   "execution_count": 3,
   "metadata": {},
   "outputs": [],
   "source": [
    "BATCH_SIZE = 8\n",
    "NUM_WORKERS = 0\n",
    "\n",
    "# create the dataloader\n",
    "dataset = Simple2DDataset()\n",
    "train_dataloader = DataLoader(\n",
    "    dataset,\n",
    "    batch_size=BATCH_SIZE,\n",
    "    num_workers=NUM_WORKERS,\n",
    "    shuffle=True\n",
    ")"
   ]
  },
  {
   "cell_type": "markdown",
   "metadata": {},
   "source": [
    "Now, define your first network by filling in the `LinearClassifier` class below.\n",
    "\n",
    "Add a single linear layer `nn.Linear` inside the `nn.Sequential` call. The input is 2D, and the output should be a single value, corresponding to the probability of a given 2D point being part of cluster 0."
   ]
  },
  {
   "cell_type": "code",
   "execution_count": 4,
   "metadata": {},
   "outputs": [],
   "source": [
    "class LinearClassifier(nn.Module):\n",
    "    def __init__(self):\n",
    "        super().__init__()\n",
    "\n",
    "        self.codename = 'linear'\n",
    "\n",
    "        #########################################################################\n",
    "        # TODO: add a single linear layer with nn.Linear, inside the `nn.Sequential` call.\n",
    "        # Input is 2D.\n",
    "        # Output is a single value.\n",
    "        #########################################################################\n",
    "        self.model = nn.Sequential(nn.Linear(2,1))\n",
    "        \n",
    "    def forward(self, batch):\n",
    "        # Process batch using the defined model.\n",
    "        x = self.model(batch)\n",
    "        # Final sigmoid activation to obtain a probability between 0 and 1.\n",
    "        return torch.sigmoid(x)"
   ]
  },
  {
   "cell_type": "markdown",
   "metadata": {},
   "source": [
    "Now, you are asked to implement the training loop below"
   ]
  },
  {
   "cell_type": "code",
   "execution_count": 5,
   "metadata": {},
   "outputs": [],
   "source": [
    "def train(net, optimizer, dataloader, epoch):\n",
    "    net.train()\n",
    "    loss_sum = 0\n",
    "    for batch_idx, (point, label) in enumerate(dataloader):\n",
    "        # First we need to zero the gradient, otherwise PyTorch would accumulate them\n",
    "        optimizer.zero_grad()\n",
    "\n",
    "        #########################################################################\n",
    "        #TODO: \n",
    "        # 1. forward pass of the network to obtain the predictions given the batch\n",
    "        # 2. compute the loss using F.binary_cross_entropy\n",
    "        # 3. backward pass on the loss using loss.backward(), and one step \n",
    "        # of gradient descent (optimization) using optimizer.step()\n",
    "        #########################################################################\n",
    "        output = net.forward(point)\n",
    "        loss = F.binary_cross_entropy(output,label)\n",
    "        loss.backward()\n",
    "        optimizer.step()\n",
    "\n",
    "        loss_sum += loss\n",
    "    return loss_sum\n",
    "        "
   ]
  },
  {
   "cell_type": "markdown",
   "metadata": {},
   "source": [
    "You can now run below to train the linear model."
   ]
  },
  {
   "cell_type": "code",
   "execution_count": 6,
   "metadata": {
    "scrolled": true,
    "tags": []
   },
   "outputs": [
    {
     "name": "stdout",
     "output_type": "stream",
     "text": [
      "[Epoch 01] Loss: 7.8845\n",
      "[Epoch 02] Loss: 6.3237\n",
      "[Epoch 03] Loss: 5.5216\n",
      "[Epoch 04] Loss: 5.0132\n",
      "[Epoch 05] Loss: 4.6604\n",
      "[Epoch 06] Loss: 4.4294\n",
      "[Epoch 07] Loss: 4.3642\n",
      "[Epoch 08] Loss: 4.2825\n",
      "[Epoch 09] Loss: 4.3689\n",
      "[Epoch 10] Loss: 4.0000\n",
      "[Epoch 11] Loss: 3.8733\n",
      "[Epoch 12] Loss: 3.8444\n",
      "[Epoch 13] Loss: 4.0892\n",
      "[Epoch 14] Loss: 3.7273\n",
      "[Epoch 15] Loss: 3.9042\n",
      "[Epoch 16] Loss: 3.8506\n",
      "[Epoch 17] Loss: 4.0333\n",
      "[Epoch 18] Loss: 3.6005\n",
      "[Epoch 19] Loss: 3.5798\n",
      "[Epoch 20] Loss: 3.5790\n",
      "[Epoch 21] Loss: 3.9696\n",
      "[Epoch 22] Loss: 3.6062\n",
      "[Epoch 23] Loss: 3.5112\n",
      "[Epoch 24] Loss: 3.5418\n",
      "[Epoch 25] Loss: 3.5349\n",
      "[Epoch 26] Loss: 3.5300\n",
      "[Epoch 27] Loss: 3.5397\n",
      "[Epoch 28] Loss: 3.7578\n",
      "[Epoch 29] Loss: 3.8182\n",
      "[Epoch 30] Loss: 3.7182\n",
      "[Epoch 31] Loss: 3.5565\n",
      "[Epoch 32] Loss: 3.6365\n",
      "[Epoch 33] Loss: 3.4514\n",
      "[Epoch 34] Loss: 3.4560\n",
      "[Epoch 35] Loss: 3.7415\n",
      "[Epoch 36] Loss: 3.4932\n",
      "[Epoch 37] Loss: 3.5112\n",
      "[Epoch 38] Loss: 3.5002\n",
      "[Epoch 39] Loss: 3.8488\n",
      "[Epoch 40] Loss: 3.5801\n",
      "[Epoch 41] Loss: 3.8432\n",
      "[Epoch 42] Loss: 3.5637\n",
      "[Epoch 43] Loss: 3.7127\n",
      "[Epoch 44] Loss: 3.6684\n",
      "[Epoch 45] Loss: 3.5442\n",
      "[Epoch 46] Loss: 3.7585\n",
      "[Epoch 47] Loss: 3.4859\n",
      "[Epoch 48] Loss: 3.4859\n",
      "[Epoch 49] Loss: 3.5295\n",
      "[Epoch 50] Loss: 3.5415\n",
      "[Epoch 51] Loss: 3.5239\n",
      "[Epoch 52] Loss: 3.5059\n",
      "[Epoch 53] Loss: 3.6529\n",
      "[Epoch 54] Loss: 3.4605\n",
      "[Epoch 55] Loss: 3.4633\n",
      "[Epoch 56] Loss: 3.5922\n",
      "[Epoch 57] Loss: 3.6068\n",
      "[Epoch 58] Loss: 3.4795\n",
      "[Epoch 59] Loss: 3.5212\n",
      "[Epoch 60] Loss: 3.4284\n",
      "[Epoch 61] Loss: 3.4830\n",
      "[Epoch 62] Loss: 3.4776\n",
      "[Epoch 63] Loss: 3.8153\n",
      "[Epoch 64] Loss: 3.5414\n",
      "[Epoch 65] Loss: 3.4894\n",
      "[Epoch 66] Loss: 3.7610\n",
      "[Epoch 67] Loss: 3.5307\n",
      "[Epoch 68] Loss: 3.4565\n",
      "[Epoch 69] Loss: 3.5217\n",
      "[Epoch 70] Loss: 3.9638\n",
      "[Epoch 71] Loss: 3.4639\n",
      "[Epoch 72] Loss: 3.7123\n",
      "[Epoch 73] Loss: 3.4900\n",
      "[Epoch 74] Loss: 3.7219\n",
      "[Epoch 75] Loss: 3.7160\n",
      "[Epoch 76] Loss: 3.5021\n",
      "[Epoch 77] Loss: 3.7632\n",
      "[Epoch 78] Loss: 3.4604\n",
      "[Epoch 79] Loss: 3.4559\n",
      "[Epoch 80] Loss: 3.7637\n",
      "[Epoch 81] Loss: 3.4911\n",
      "[Epoch 82] Loss: 3.7322\n",
      "[Epoch 83] Loss: 3.7383\n",
      "[Epoch 84] Loss: 3.5060\n",
      "[Epoch 85] Loss: 3.4862\n",
      "[Epoch 86] Loss: 3.9377\n",
      "[Epoch 87] Loss: 3.7048\n",
      "[Epoch 88] Loss: 3.6135\n",
      "[Epoch 89] Loss: 3.4674\n",
      "[Epoch 90] Loss: 3.5087\n",
      "[Epoch 91] Loss: 3.6389\n",
      "[Epoch 92] Loss: 3.4943\n",
      "[Epoch 93] Loss: 3.4526\n",
      "[Epoch 94] Loss: 3.4509\n",
      "[Epoch 95] Loss: 3.6921\n",
      "[Epoch 96] Loss: 3.5042\n",
      "[Epoch 97] Loss: 3.4460\n",
      "[Epoch 98] Loss: 3.5203\n",
      "[Epoch 99] Loss: 3.4955\n",
      "[Epoch 100] Loss: 3.4968\n"
     ]
    }
   ],
   "source": [
    "NUM_EPOCHS = 100\n",
    "# create the network.\n",
    "net = LinearClassifier()\n",
    "\n",
    "# create the optimizer.\n",
    "optimizer = Adam(net.parameters(), lr=0.1)\n",
    "\n",
    "best_accuracy = 0\n",
    "for epoch_idx in range(NUM_EPOCHS):\n",
    "    loss = train(net, optimizer, train_dataloader, epoch_idx)\n",
    "    print('[Epoch %02d] Loss: %.4f' % (epoch_idx + 1, loss))"
   ]
  },
  {
   "cell_type": "markdown",
   "metadata": {},
   "source": [
    "Now plot your result below.\n"
   ]
  },
  {
   "cell_type": "code",
   "execution_count": 6,
   "metadata": {},
   "outputs": [],
   "source": []
  },
  {
   "cell_type": "code",
   "execution_count": 7,
   "metadata": {},
   "outputs": [
    {
     "data": {
      "text/plain": "<Figure size 432x288 with 1 Axes>",
      "image/png": "[encoded data removed]"
     },
     "metadata": {
      "needs_background": "light"
     },
     "output_type": "display_data"
    },
    {
     "data": {
      "text/plain": "<Figure size 432x288 with 0 Axes>"
     },
     "metadata": {},
     "output_type": "display_data"
    }
   ],
   "source": [
    "p = np.linspace(-0.5, 0.5, 500)\n",
    "x_plot, y_plot = np.meshgrid(p, p)\n",
    "X_plot = np.stack((x_plot, y_plot), axis=2).reshape(-1, 2)\n",
    "X_plot = torch.from_numpy(X_plot).float()\n",
    "output = net(X_plot)\n",
    "output = output.detach().numpy()\n",
    "output = output.reshape(x_plot.shape[0], x_plot.shape[1])\n",
    "\n",
    "plt.contour(x_plot, y_plot, output, [0.5],\n",
    "                  colors=('k',),\n",
    "                  linewidths=(3,))\n",
    "plot(X0, X1)\n"
   ]
  },
  {
   "cell_type": "markdown",
   "metadata": {},
   "source": [
    "### Implement your first multi-layer perceptron (MLP) for point cloud classification\n",
    "Now you should notice that your logistic regression model cannot classify the point cloud correctly, and this is as expected :)  \n",
    "Therefore, we now ask you to implement an MLP for the same binary classification task."
   ]
  },
  {
   "cell_type": "code",
   "execution_count": 8,
   "metadata": {},
   "outputs": [],
   "source": [
    "# These are the parameters to be used\n",
    "nInput = 2\n",
    "nOutput = 1\n",
    "nHidden = 16\n",
    "act_fn = nn.ReLU()\n",
    "\n",
    "class MLP(nn.Module):\n",
    "    def __init__(self, nInput, nOutput, nHidden, act_fn):\n",
    "        super().__init__()\n",
    "\n",
    "        # Define the network layers in order.\n",
    "        # Input is 2D (nInput).\n",
    "        # Output is a single value (nOutput).\n",
    "        # Multiple linear layers each followed by a ReLU non-linearity (apart from the last).\n",
    "        #########################################################################\n",
    "        # TODO: add a two-layer MLP, inside the `nn.Sequential` call.\n",
    "        # Input is 2D.\n",
    "        # Output is a single value.\n",
    "\n",
    "        # Hint: unlike logistic regression where you need only one nn.Linear layer, \n",
    "        # here you will have two nn.Linear layers. After the first layer, we \n",
    "        # apply a ReLU activation function. The output is then passed to another \n",
    "        # linear layer. Note that you should use `nHidden` below as the hidden dimension \n",
    "        # of your linear layers.\n",
    "        #########################################################################\n",
    "        self.model = nn.Sequential(nn.Linear(nInput,nHidden),\n",
    "                                  nn.ReLU(),\n",
    "                                  nn.Linear(nHidden,nOutput),\n",
    "                                  )\n",
    "        \n",
    "    def forward(self, batch):\n",
    "        # Process batch using the defined model.\n",
    "        x = self.model(batch)\n",
    "        # Final sigmoid activation to obtain a probability.\n",
    "        return torch.sigmoid(x)\n"
   ]
  },
  {
   "cell_type": "markdown",
   "metadata": {},
   "source": [
    "Run below again!"
   ]
  },
  {
   "cell_type": "code",
   "execution_count": 9,
   "metadata": {},
   "outputs": [
    {
     "name": "stdout",
     "output_type": "stream",
     "text": [
      "[Epoch 01] Loss: 8.0538\n",
      "[Epoch 02] Loss: 5.2542\n",
      "[Epoch 03] Loss: 4.4381\n",
      "[Epoch 04] Loss: 3.7511\n",
      "[Epoch 05] Loss: 3.8222\n",
      "[Epoch 06] Loss: 4.2008\n",
      "[Epoch 07] Loss: 3.4062\n",
      "[Epoch 08] Loss: 3.4437\n",
      "[Epoch 09] Loss: 3.0189\n",
      "[Epoch 10] Loss: 3.2132\n",
      "[Epoch 11] Loss: 3.2560\n",
      "[Epoch 12] Loss: 2.8896\n",
      "[Epoch 13] Loss: 3.0778\n",
      "[Epoch 14] Loss: 2.5657\n",
      "[Epoch 15] Loss: 2.2311\n",
      "[Epoch 16] Loss: 1.9421\n",
      "[Epoch 17] Loss: 1.9006\n",
      "[Epoch 18] Loss: 1.7662\n",
      "[Epoch 19] Loss: 1.4502\n",
      "[Epoch 20] Loss: 1.3122\n",
      "[Epoch 21] Loss: 1.2399\n",
      "[Epoch 22] Loss: 1.1609\n",
      "[Epoch 23] Loss: 0.7965\n",
      "[Epoch 24] Loss: 0.7381\n",
      "[Epoch 25] Loss: 0.6216\n",
      "[Epoch 26] Loss: 0.5241\n",
      "[Epoch 27] Loss: 0.5396\n",
      "[Epoch 28] Loss: 0.4983\n",
      "[Epoch 29] Loss: 0.4481\n",
      "[Epoch 30] Loss: 0.4024\n",
      "[Epoch 31] Loss: 0.3171\n",
      "[Epoch 32] Loss: 0.3221\n",
      "[Epoch 33] Loss: 0.3421\n",
      "[Epoch 34] Loss: 0.5425\n",
      "[Epoch 35] Loss: 0.3479\n",
      "[Epoch 36] Loss: 0.3663\n",
      "[Epoch 37] Loss: 0.3084\n",
      "[Epoch 38] Loss: 0.2019\n",
      "[Epoch 39] Loss: 0.3102\n",
      "[Epoch 40] Loss: 0.2188\n",
      "[Epoch 41] Loss: 0.2585\n",
      "[Epoch 42] Loss: 0.4564\n",
      "[Epoch 43] Loss: 0.5890\n",
      "[Epoch 44] Loss: 0.8913\n",
      "[Epoch 45] Loss: 0.2358\n",
      "[Epoch 46] Loss: 0.2239\n",
      "[Epoch 47] Loss: 0.2130\n",
      "[Epoch 48] Loss: 0.1523\n",
      "[Epoch 49] Loss: 0.1275\n",
      "[Epoch 50] Loss: 0.1624\n",
      "[Epoch 51] Loss: 0.2698\n",
      "[Epoch 52] Loss: 0.3449\n",
      "[Epoch 53] Loss: 0.1739\n",
      "[Epoch 54] Loss: 0.1304\n",
      "[Epoch 55] Loss: 0.1250\n",
      "[Epoch 56] Loss: 0.1042\n",
      "[Epoch 57] Loss: 0.0917\n",
      "[Epoch 58] Loss: 0.0863\n",
      "[Epoch 59] Loss: 0.0853\n",
      "[Epoch 60] Loss: 0.0781\n",
      "[Epoch 61] Loss: 0.0844\n",
      "[Epoch 62] Loss: 0.0784\n",
      "[Epoch 63] Loss: 0.0849\n",
      "[Epoch 64] Loss: 0.0631\n",
      "[Epoch 65] Loss: 0.0775\n",
      "[Epoch 66] Loss: 0.0610\n",
      "[Epoch 67] Loss: 0.0587\n",
      "[Epoch 68] Loss: 0.0656\n",
      "[Epoch 69] Loss: 0.0545\n",
      "[Epoch 70] Loss: 0.0663\n",
      "[Epoch 71] Loss: 0.0504\n",
      "[Epoch 72] Loss: 0.0503\n",
      "[Epoch 73] Loss: 0.0488\n",
      "[Epoch 74] Loss: 0.0494\n",
      "[Epoch 75] Loss: 0.0454\n",
      "[Epoch 76] Loss: 0.0728\n",
      "[Epoch 77] Loss: 0.0749\n",
      "[Epoch 78] Loss: 0.0372\n",
      "[Epoch 79] Loss: 0.0579\n",
      "[Epoch 80] Loss: 0.0481\n",
      "[Epoch 81] Loss: 0.0371\n",
      "[Epoch 82] Loss: 0.0344\n",
      "[Epoch 83] Loss: 0.0341\n",
      "[Epoch 84] Loss: 0.0413\n",
      "[Epoch 85] Loss: 0.0310\n",
      "[Epoch 86] Loss: 0.0330\n",
      "[Epoch 87] Loss: 0.0350\n",
      "[Epoch 88] Loss: 0.0284\n",
      "[Epoch 89] Loss: 0.0315\n",
      "[Epoch 90] Loss: 0.0283\n",
      "[Epoch 91] Loss: 0.0304\n",
      "[Epoch 92] Loss: 0.0297\n",
      "[Epoch 93] Loss: 0.0269\n",
      "[Epoch 94] Loss: 0.0279\n",
      "[Epoch 95] Loss: 0.0378\n",
      "[Epoch 96] Loss: 0.0573\n",
      "[Epoch 97] Loss: 0.0320\n",
      "[Epoch 98] Loss: 0.0574\n",
      "[Epoch 99] Loss: 0.0340\n",
      "[Epoch 100] Loss: 0.0222\n",
      "[Epoch 101] Loss: 0.0219\n",
      "[Epoch 102] Loss: 0.0254\n",
      "[Epoch 103] Loss: 0.0204\n",
      "[Epoch 104] Loss: 0.0213\n",
      "[Epoch 105] Loss: 0.0212\n",
      "[Epoch 106] Loss: 0.0225\n",
      "[Epoch 107] Loss: 0.0186\n",
      "[Epoch 108] Loss: 0.0218\n",
      "[Epoch 109] Loss: 0.0174\n",
      "[Epoch 110] Loss: 0.0236\n",
      "[Epoch 111] Loss: 0.0174\n",
      "[Epoch 112] Loss: 0.0171\n",
      "[Epoch 113] Loss: 0.0188\n",
      "[Epoch 114] Loss: 0.0160\n",
      "[Epoch 115] Loss: 0.0165\n",
      "[Epoch 116] Loss: 0.0162\n",
      "[Epoch 117] Loss: 0.0155\n",
      "[Epoch 118] Loss: 0.0149\n",
      "[Epoch 119] Loss: 0.0159\n",
      "[Epoch 120] Loss: 0.0152\n",
      "[Epoch 121] Loss: 0.0154\n",
      "[Epoch 122] Loss: 0.0145\n",
      "[Epoch 123] Loss: 0.0145\n",
      "[Epoch 124] Loss: 0.0138\n",
      "[Epoch 125] Loss: 0.0134\n",
      "[Epoch 126] Loss: 0.0141\n",
      "[Epoch 127] Loss: 0.0128\n",
      "[Epoch 128] Loss: 0.0128\n",
      "[Epoch 129] Loss: 0.0127\n",
      "[Epoch 130] Loss: 0.0120\n",
      "[Epoch 131] Loss: 0.0131\n",
      "[Epoch 132] Loss: 0.0121\n",
      "[Epoch 133] Loss: 0.0122\n",
      "[Epoch 134] Loss: 0.0120\n",
      "[Epoch 135] Loss: 0.0118\n",
      "[Epoch 136] Loss: 0.0118\n",
      "[Epoch 137] Loss: 0.0112\n",
      "[Epoch 138] Loss: 0.0106\n",
      "[Epoch 139] Loss: 0.0143\n",
      "[Epoch 140] Loss: 0.0119\n",
      "[Epoch 141] Loss: 0.0130\n",
      "[Epoch 142] Loss: 0.0109\n",
      "[Epoch 143] Loss: 0.0112\n",
      "[Epoch 144] Loss: 0.0106\n",
      "[Epoch 145] Loss: 0.0098\n",
      "[Epoch 146] Loss: 0.0114\n",
      "[Epoch 147] Loss: 0.0093\n",
      "[Epoch 148] Loss: 0.0094\n",
      "[Epoch 149] Loss: 0.0093\n",
      "[Epoch 150] Loss: 0.0089\n",
      "[Epoch 151] Loss: 0.0088\n",
      "[Epoch 152] Loss: 0.0088\n",
      "[Epoch 153] Loss: 0.0089\n",
      "[Epoch 154] Loss: 0.0084\n",
      "[Epoch 155] Loss: 0.0087\n",
      "[Epoch 156] Loss: 0.0080\n",
      "[Epoch 157] Loss: 0.0080\n",
      "[Epoch 158] Loss: 0.0077\n",
      "[Epoch 159] Loss: 0.0093\n",
      "[Epoch 160] Loss: 0.0081\n",
      "[Epoch 161] Loss: 0.0083\n",
      "[Epoch 162] Loss: 0.0078\n",
      "[Epoch 163] Loss: 0.0073\n",
      "[Epoch 164] Loss: 0.0080\n",
      "[Epoch 165] Loss: 0.0068\n",
      "[Epoch 166] Loss: 0.0067\n",
      "[Epoch 167] Loss: 0.0064\n",
      "[Epoch 168] Loss: 0.0064\n",
      "[Epoch 169] Loss: 0.0065\n",
      "[Epoch 170] Loss: 0.0062\n",
      "[Epoch 171] Loss: 0.0060\n",
      "[Epoch 172] Loss: 0.0062\n",
      "[Epoch 173] Loss: 0.0060\n",
      "[Epoch 174] Loss: 0.0060\n",
      "[Epoch 175] Loss: 0.0058\n",
      "[Epoch 176] Loss: 0.0058\n",
      "[Epoch 177] Loss: 0.0055\n",
      "[Epoch 178] Loss: 0.0057\n",
      "[Epoch 179] Loss: 0.0057\n",
      "[Epoch 180] Loss: 0.0054\n",
      "[Epoch 181] Loss: 0.0057\n",
      "[Epoch 182] Loss: 0.0050\n",
      "[Epoch 183] Loss: 0.0054\n",
      "[Epoch 184] Loss: 0.0051\n",
      "[Epoch 185] Loss: 0.0049\n",
      "[Epoch 186] Loss: 0.0048\n",
      "[Epoch 187] Loss: 0.0057\n",
      "[Epoch 188] Loss: 0.0050\n",
      "[Epoch 189] Loss: 0.0048\n",
      "[Epoch 190] Loss: 0.0047\n",
      "[Epoch 191] Loss: 0.0048\n",
      "[Epoch 192] Loss: 0.0052\n",
      "[Epoch 193] Loss: 0.0046\n",
      "[Epoch 194] Loss: 0.0045\n",
      "[Epoch 195] Loss: 0.0045\n",
      "[Epoch 196] Loss: 0.0044\n",
      "[Epoch 197] Loss: 0.0043\n",
      "[Epoch 198] Loss: 0.0044\n",
      "[Epoch 199] Loss: 0.0042\n",
      "[Epoch 200] Loss: 0.0041\n"
     ]
    }
   ],
   "source": [
    "NUM_EPOCHS = 200\n",
    "\n",
    "# create the network.\n",
    "net = MLP(nInput, nOutput, nHidden, act_fn)\n",
    "\n",
    "# create the optimizer.\n",
    "optimizer = Adam(net.parameters(), lr=0.1)\n",
    "\n",
    "best_accuracy = 0\n",
    "for epoch_idx in range(NUM_EPOCHS):\n",
    "    loss = train(net, optimizer, train_dataloader, epoch_idx)\n",
    "    print('[Epoch %02d] Loss: %.4f' % (epoch_idx + 1, loss))"
   ]
  },
  {
   "cell_type": "markdown",
   "metadata": {},
   "source": [
    "Again plot your result. You should see that the decision boundary can clearly separate the point clouds.\n"
   ]
  },
  {
   "cell_type": "code",
   "execution_count": 10,
   "metadata": {},
   "outputs": [
    {
     "data": {
      "text/plain": "<Figure size 432x288 with 1 Axes>",
      "image/png": "[encoded data removed]"
     },
     "metadata": {
      "needs_background": "light"
     },
     "output_type": "display_data"
    },
    {
     "data": {
      "text/plain": "<Figure size 432x288 with 0 Axes>"
     },
     "metadata": {},
     "output_type": "display_data"
    }
   ],
   "source": [
    "p = np.linspace(-0.5, 0.5, 500)\n",
    "x_plot, y_plot = np.meshgrid(p, p)\n",
    "X_plot = np.stack((x_plot, y_plot), axis=2).reshape(-1, 2)\n",
    "X_plot = torch.from_numpy(X_plot).float()\n",
    "output = net(X_plot)\n",
    "output = output.detach().numpy()\n",
    "output = output.reshape(x_plot.shape[0], x_plot.shape[1])\n",
    "\n",
    "plt.contour(x_plot, y_plot, output, [0.5],\n",
    "                  colors=('k',),\n",
    "                  linewidths=(3,))\n",
    "plot(X0, X1)"
   ]
  },
  {
   "cell_type": "markdown",
   "metadata": {},
   "source": [
    "When you are done, move forward to `image_classification.ipynb`."
   ]
  },
  {
   "cell_type": "markdown",
   "metadata": {},
   "source": []
  }
 ],
 "metadata": {
  "kernelspec": {
   "display_name": "Python 3 (ipykernel)",
   "language": "python",
   "name": "python3"
  },
  "language_info": {
   "codemirror_mode": {
    "name": "ipython",
    "version": 3
   },
   "file_extension": ".py",
   "mimetype": "text/x-python",
   "name": "python",
   "nbconvert_exporter": "python",
   "pygments_lexer": "ipython3",
   "version": "3.9.7"
  },
  "varInspector": {
   "cols": {
    "lenName": 16,
    "lenType": 16,
    "lenVar": 40
   },
   "kernels_config": {
    "python": {
     "delete_cmd_postfix": "",
     "delete_cmd_prefix": "del ",
     "library": "var_list.py",
     "varRefreshCmd": "print(var_dic_list())"
    },
    "r": {
     "delete_cmd_postfix": ") ",
     "delete_cmd_prefix": "rm(",
     "library": "var_list.r",
     "varRefreshCmd": "cat(var_dic_list()) "
    }
   },
   "position": {
    "height": "372.844px",
    "left": "1400px",
    "right": "20px",
    "top": "259px",
    "width": "282px"
   },
   "types_to_exclude": [
    "module",
    "function",
    "builtin_function_or_method",
    "instance",
    "_Feature"
   ],
   "window_display": true
  },
  "vscode": {
   "interpreter": {
    "hash": "d268b61a0efacafa8645774cb6d0204c9f01d7563ef03f7672146d044e8f345c"
   }
  }
 },
 "nbformat": 4,
 "nbformat_minor": 4
}