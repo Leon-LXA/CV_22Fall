{
 "cells": [
  {
   "cell_type": "markdown",
   "metadata": {},
   "source": [
    "# Image Classification with PyTorch"
   ]
  },
  {
   "cell_type": "markdown",
   "metadata": {},
   "source": [
    "## Data loading\n"
   ]
  },
  {
   "cell_type": "code",
   "execution_count": 1,
   "metadata": {},
   "outputs": [],
   "source": [
    "import numpy as np\n",
    "import matplotlib.pyplot as plt\n",
    "\n",
    "import torch\n",
    "import torch.nn as nn\n",
    "import torch.nn.functional as F\n",
    "import torch.optim as optim\n",
    "from torch.utils.data import DataLoader\n",
    "import torchvision\n",
    "from torchvision import datasets, transforms"
   ]
  },
  {
   "cell_type": "code",
   "execution_count": 2,
   "metadata": {},
   "outputs": [],
   "source": [
    "# torchvision contains convinience functions for popular datasets\n",
    "ds_train = datasets.MNIST('data', train=True, download=True)"
   ]
  },
  {
   "cell_type": "markdown",
   "metadata": {},
   "source": [
    "Each sample is a 28x28 image"
   ]
  },
  {
   "cell_type": "code",
   "execution_count": 3,
   "metadata": {},
   "outputs": [
    {
     "name": "stdout",
     "output_type": "stream",
     "text": [
      "(<PIL.Image.Image image mode=L size=28x28 at 0x1D12D544CD0>, 5)\n"
     ]
    },
    {
     "data": {
      "image/png": "[encoded data removed]",
      "text/plain": [
       "<PIL.Image.Image image mode=L size=120x120 at 0x1D12D4947C0>"
      ]
     },
     "execution_count": 3,
     "metadata": {},
     "output_type": "execute_result"
    }
   ],
   "source": [
    "# if we index this dataset, we get a single data point: a PIL image and an Integer\n",
    "print(ds_train[0])\n",
    "ds_train[0][0].resize((120,120))"
   ]
  },
  {
   "cell_type": "markdown",
   "metadata": {},
   "source": [
    "Let's transform the data to something that our Pytorch models will understand\n",
    "for this purpose, we can supply a transform function to the datase"
   ]
  },
  {
   "cell_type": "code",
   "execution_count": 4,
   "metadata": {},
   "outputs": [],
   "source": [
    "transform = transforms.Compose([\n",
    "    transforms.ToTensor(),\n",
    "])\n",
    "ds_train = datasets.MNIST('data', train=True, download=True, transform=transform)"
   ]
  },
  {
   "cell_type": "markdown",
   "metadata": {},
   "source": [
    "The image is now a `torch.Tensor`"
   ]
  },
  {
   "cell_type": "code",
   "execution_count": 5,
   "metadata": {},
   "outputs": [
    {
     "data": {
      "text/plain": [
       "torch.Tensor"
      ]
     },
     "execution_count": 5,
     "metadata": {},
     "output_type": "execute_result"
    }
   ],
   "source": [
    "type(ds_train[0][0])"
   ]
  },
  {
   "cell_type": "markdown",
   "metadata": {},
   "source": [
    "The normalization is something you learned about in the lecture. Normalizing with $\\mu=0, \\sigma=1$ corresponds to no normalization. Let's compute the proper normalization constants!"
   ]
  },
  {
   "cell_type": "code",
   "execution_count": 6,
   "metadata": {},
   "outputs": [
    {
     "name": "stdout",
     "output_type": "stream",
     "text": [
      "torch.Size([60000, 28, 28])\n"
     ]
    }
   ],
   "source": [
    "# lets get only the images \n",
    "ims_train = ds_train.data\n",
    "ims_train = ims_train.float() / 255.\n",
    "print(ims_train.size())"
   ]
  },
  {
   "cell_type": "code",
   "execution_count": 7,
   "metadata": {},
   "outputs": [
    {
     "name": "stdout",
     "output_type": "stream",
     "text": [
      "tensor(0.1307)\n",
      "tensor(0.3081)\n"
     ]
    }
   ],
   "source": [
    "#########################################################################\n",
    "# TODO: calculate the mean and std of MNIST images\n",
    "# hint: to look for operations on pytorch tensor, refer to the official PyTorch docs \n",
    "# https://pytorch.org/docs/stable/\n",
    "#########################################################################\n",
    "mu = 0.0\n",
    "std = 1.0\n",
    "mu = ims_train.mean()\n",
    "std = ims_train.std()\n",
    "print(mu)\n",
    "print(std)"
   ]
  },
  {
   "cell_type": "markdown",
   "metadata": {},
   "source": [
    "We normalize the data as below."
   ]
  },
  {
   "cell_type": "code",
   "execution_count": 8,
   "metadata": {},
   "outputs": [],
   "source": [
    "transform = transforms.Compose([\n",
    "    transforms.ToTensor(),\n",
    "    transforms.Normalize(mu, std)\n",
    "])\n",
    "ds_train = datasets.MNIST('data', train=True, download=True, transform=transform)\n",
    "ds_test = datasets.MNIST('data', train=False, download=True, transform=transform)"
   ]
  },
  {
   "cell_type": "code",
   "execution_count": 9,
   "metadata": {},
   "outputs": [
    {
     "data": {
      "text/plain": [
       "(tensor(-0.4241), tensor(2.8215))"
      ]
     },
     "execution_count": 9,
     "metadata": {},
     "output_type": "execute_result"
    }
   ],
   "source": [
    "ds_train[0][0].min(), ds_train[0][0].max()"
   ]
  },
  {
   "cell_type": "markdown",
   "metadata": {},
   "source": [
    "Next, we want to receive mini-batches, not only single data points.\n",
    "We use PyTorch's DataLoader class. Build a dataloader with a batch size of 64 and 4 workers (number of subprocess that peform the dataloading). Important: you need to shuffle the training data, not the test data.\n",
    "\n",
    "**NOTE**: if you encounter some unexpected errors in data loading, try setting `NUM_WORKERS = 0`"
   ]
  },
  {
   "cell_type": "code",
   "execution_count": 10,
   "metadata": {},
   "outputs": [],
   "source": [
    "BATCH_SIZE = 64\n",
    "NUM_WORKERS = 0\n",
    "#########################################################################\n",
    "# TODO: Build a dataloader for both train and test data.\n",
    "#########################################################################\n",
    "dl_train = DataLoader(ds_train, batch_size=BATCH_SIZE, num_workers=NUM_WORKERS, shuffle = True)\n",
    "dl_test = DataLoader(ds_test, batch_size=BATCH_SIZE, num_workers=NUM_WORKERS, shuffle = False)"
   ]
  },
  {
   "cell_type": "markdown",
   "metadata": {},
   "source": [
    "## MLP in Pytorch\n",
    "\n",
    "Ok, the dataloading works. Let's build our model, PyTorch makes this very easy. We will build replicate the model from our last exercises. However, now, we add another variable called `nLayer` that indicates how many linear layers that in your network. Please adapt your code from last exercise accordingly to allow different number of layers."
   ]
  },
  {
   "cell_type": "code",
   "execution_count": 11,
   "metadata": {},
   "outputs": [],
   "source": [
    "# These are the parameters to be used\n",
    "nInput = 784\n",
    "nOutput = 10\n",
    "nLayer = 2\n",
    "nHidden = 16\n",
    "act_fn = nn.ReLU()"
   ]
  },
  {
   "cell_type": "code",
   "execution_count": 12,
   "metadata": {},
   "outputs": [],
   "source": [
    "#########################################################################\n",
    "# TODO: Implement the __init__ of the MLP class. \n",
    "# insert the activation after every linear layer. Important: the number of \n",
    "# hidden layers should be variable!\n",
    "#########################################################################\n",
    "\n",
    "class MLP(nn.Module):\n",
    "    def __init__(self, nInput, nOutput, nLayer, nHidden, act_fn):\n",
    "        super(MLP, self).__init__()\n",
    "        layers = [] \n",
    "        \n",
    "        ##### implement this part #####\n",
    "        layers.append(nn.Linear(nInput,nHidden))\n",
    "        layers.append(act_fn)\n",
    "        for i in range(nLayer):\n",
    "            layers.append(nn.Linear(nHidden,nHidden))\n",
    "            layers.append(act_fn)\n",
    "        layers.append(nn.Linear(nHidden,nOutput))\n",
    "        layers.append(act_fn)\n",
    "        ###############################\n",
    "        \n",
    "        self.model = nn.Sequential(*layers)\n",
    "\n",
    "    def forward(self, x):\n",
    "        x = torch.flatten(x, 1)\n",
    "        return self.model(x)"
   ]
  },
  {
   "cell_type": "code",
   "execution_count": 13,
   "metadata": {
    "scrolled": true
   },
   "outputs": [
    {
     "data": {
      "text/plain": [
       "torch.Size([1, 10])"
      ]
     },
     "execution_count": 13,
     "metadata": {},
     "output_type": "execute_result"
    }
   ],
   "source": [
    "# Let's test if the forward pass works\n",
    "# this should print torch.Size([1, 10])\n",
    "t = torch.randn(1,1,28,28)\n",
    "mlp = MLP(nInput, nOutput, nLayer, nHidden, act_fn)\n",
    "mlp(t).shape"
   ]
  },
  {
   "cell_type": "code",
   "execution_count": 14,
   "metadata": {},
   "outputs": [
    {
     "data": {
      "text/plain": [
       "MLP(\n",
       "  (model): Sequential(\n",
       "    (0): Linear(in_features=784, out_features=16, bias=True)\n",
       "    (1): ReLU()\n",
       "    (2): Linear(in_features=16, out_features=16, bias=True)\n",
       "    (3): ReLU()\n",
       "    (4): Linear(in_features=16, out_features=16, bias=True)\n",
       "    (5): ReLU()\n",
       "    (6): Linear(in_features=16, out_features=10, bias=True)\n",
       "    (7): ReLU()\n",
       "  )\n",
       ")"
      ]
     },
     "execution_count": 14,
     "metadata": {},
     "output_type": "execute_result"
    }
   ],
   "source": [
    "mlp"
   ]
  },
  {
   "cell_type": "markdown",
   "metadata": {},
   "source": [
    "We already implemented the test function for you"
   ]
  },
  {
   "cell_type": "code",
   "execution_count": 15,
   "metadata": {},
   "outputs": [],
   "source": [
    "def test(model, dl_test, device='cpu'):\n",
    "    model.eval()\n",
    "    test_loss = 0\n",
    "    correct = 0\n",
    "    with torch.no_grad():\n",
    "        for data, target in dl_test:\n",
    "            data, target = data.to(device), target.to(device)\n",
    "            output = model(data)\n",
    "            test_loss += F.cross_entropy(output, target, reduction='sum').item()  # sum up batch loss\n",
    "            pred = output.argmax(dim=1, keepdim=True)  # get the index of the max log-probability\n",
    "            correct += pred.eq(target.view_as(pred)).sum().item()\n",
    "\n",
    "    test_loss /= len(dl_test.dataset)\n",
    "\n",
    "    print('\\nTest set: Average loss: {:.4f}, Accuracy: {}/{} ({:.3f}%)\\n'.format(\n",
    "        test_loss, correct, len(dl_test.dataset),\n",
    "        100. * correct / len(dl_test.dataset)))"
   ]
  },
  {
   "cell_type": "markdown",
   "metadata": {},
   "source": [
    "Now you only need to implement the training and you are good to go"
   ]
  },
  {
   "cell_type": "code",
   "execution_count": 27,
   "metadata": {},
   "outputs": [],
   "source": [
    "#########################################################################\n",
    "# TODO: Implement the missing part of the training function. As a loss function we want to use cross entropy\n",
    "# It can be called with F.cross_entropy().\n",
    "# Hint: Pass through the model -> Backpropagate gradients -> Take gradient step\n",
    "#########################################################################\n",
    "\n",
    "def train(model, dl_train, optimizer, epoch, log_interval=100, device='cpu'):\n",
    "    model.train()\n",
    "    correct = 0\n",
    "    for batch_idx, (data, target) in enumerate(dl_train):\n",
    "        data, target = data.to(device), target.to(device)\n",
    "        \n",
    "        # first we need to zero the gradient, otherwise PyTorch would accumulate them\n",
    "        optimizer.zero_grad()         \n",
    "        \n",
    "        ##### implement this part #####\n",
    "        output = model(data)\n",
    "        loss = F.cross_entropy(output, target)\n",
    "        loss.backward()\n",
    "        optimizer.step()\n",
    "        \n",
    "        ###############################\n",
    "\n",
    "        # stats\n",
    "        pred = output.argmax(dim=1, keepdim=True)  # get the index of the max log-probability\n",
    "        correct += pred.eq(target.view_as(pred)).sum().item()\n",
    "\n",
    "        if batch_idx % log_interval == 0:\n",
    "            print('Train Epoch: {} [{}/{} ({:.0f}%)]\\tLoss: {:.6f}'.format(\n",
    "                epoch, batch_idx * len(data), len(dl_train.dataset),\n",
    "                100. * batch_idx / len(dl_train), loss.item()))\n",
    "\n",
    "    print('\\nTrain set: Average loss: {:.4f}, Accuracy: {}/{} ({:.1f}%)\\n'.format(\n",
    "        loss, correct, len(dl_train.dataset),\n",
    "        100. * correct / len(dl_train.dataset)))"
   ]
  },
  {
   "cell_type": "markdown",
   "metadata": {},
   "source": [
    "Ok, the setup is almost done. The onoly missing part is the optimizer. We are going to use Adam."
   ]
  },
  {
   "cell_type": "code",
   "execution_count": 17,
   "metadata": {},
   "outputs": [],
   "source": [
    "# reinitialize the mlp, so we can play with parameters right here\n",
    "mlp = MLP(nInput, nOutput, nLayer, nHidden, act_fn)\n",
    "optimizer = optim.Adam(mlp.parameters())"
   ]
  },
  {
   "cell_type": "code",
   "execution_count": 18,
   "metadata": {
    "scrolled": true
   },
   "outputs": [
    {
     "name": "stdout",
     "output_type": "stream",
     "text": [
      "Train Epoch: 1 [0/60000 (0%)]\tLoss: 148.310944\n",
      "Train Epoch: 1 [6400/60000 (11%)]\tLoss: 57.799721\n",
      "Train Epoch: 1 [12800/60000 (21%)]\tLoss: 33.016052\n",
      "Train Epoch: 1 [19200/60000 (32%)]\tLoss: 37.782841\n",
      "Train Epoch: 1 [25600/60000 (43%)]\tLoss: 21.504051\n",
      "Train Epoch: 1 [32000/60000 (53%)]\tLoss: 33.717541\n",
      "Train Epoch: 1 [38400/60000 (64%)]\tLoss: 13.512109\n",
      "Train Epoch: 1 [44800/60000 (75%)]\tLoss: 17.008268\n",
      "Train Epoch: 1 [51200/60000 (85%)]\tLoss: 23.934072\n",
      "Train Epoch: 1 [57600/60000 (96%)]\tLoss: 16.887732\n",
      "\n",
      "Train set: Average loss: 15.6671, Accuracy: 49521/60000 (82.5%)\n",
      "\n",
      "\n",
      "Test set: Average loss: 0.3281, Accuracy: 9023/10000 (90.230%)\n",
      "\n",
      "Train Epoch: 2 [0/60000 (0%)]\tLoss: 24.391090\n",
      "Train Epoch: 2 [6400/60000 (11%)]\tLoss: 30.248507\n",
      "Train Epoch: 2 [12800/60000 (21%)]\tLoss: 21.195415\n",
      "Train Epoch: 2 [19200/60000 (32%)]\tLoss: 40.440636\n",
      "Train Epoch: 2 [25600/60000 (43%)]\tLoss: 25.333982\n",
      "Train Epoch: 2 [32000/60000 (53%)]\tLoss: 15.691655\n",
      "Train Epoch: 2 [38400/60000 (64%)]\tLoss: 33.550247\n",
      "Train Epoch: 2 [44800/60000 (75%)]\tLoss: 15.945666\n",
      "Train Epoch: 2 [51200/60000 (85%)]\tLoss: 21.192196\n",
      "Train Epoch: 2 [57600/60000 (96%)]\tLoss: 11.232631\n",
      "\n",
      "Train set: Average loss: 5.4153, Accuracy: 54879/60000 (91.5%)\n",
      "\n",
      "\n",
      "Test set: Average loss: 0.2466, Accuracy: 9275/10000 (92.750%)\n",
      "\n",
      "Train Epoch: 3 [0/60000 (0%)]\tLoss: 18.974529\n",
      "Train Epoch: 3 [6400/60000 (11%)]\tLoss: 10.396067\n",
      "Train Epoch: 3 [12800/60000 (21%)]\tLoss: 19.514353\n",
      "Train Epoch: 3 [19200/60000 (32%)]\tLoss: 22.823101\n",
      "Train Epoch: 3 [25600/60000 (43%)]\tLoss: 9.518345\n",
      "Train Epoch: 3 [32000/60000 (53%)]\tLoss: 11.654430\n",
      "Train Epoch: 3 [38400/60000 (64%)]\tLoss: 23.743212\n",
      "Train Epoch: 3 [44800/60000 (75%)]\tLoss: 28.262083\n",
      "Train Epoch: 3 [51200/60000 (85%)]\tLoss: 13.765503\n",
      "Train Epoch: 3 [57600/60000 (96%)]\tLoss: 22.205585\n",
      "\n",
      "Train set: Average loss: 13.2021, Accuracy: 55889/60000 (93.1%)\n",
      "\n",
      "\n",
      "Test set: Average loss: 0.2135, Accuracy: 9376/10000 (93.760%)\n",
      "\n",
      "Train Epoch: 4 [0/60000 (0%)]\tLoss: 16.958191\n",
      "Train Epoch: 4 [6400/60000 (11%)]\tLoss: 24.325480\n",
      "Train Epoch: 4 [12800/60000 (21%)]\tLoss: 8.724657\n",
      "Train Epoch: 4 [19200/60000 (32%)]\tLoss: 13.839327\n",
      "Train Epoch: 4 [25600/60000 (43%)]\tLoss: 16.456852\n",
      "Train Epoch: 4 [32000/60000 (53%)]\tLoss: 16.110773\n",
      "Train Epoch: 4 [38400/60000 (64%)]\tLoss: 13.155045\n",
      "Train Epoch: 4 [44800/60000 (75%)]\tLoss: 14.454902\n",
      "Train Epoch: 4 [51200/60000 (85%)]\tLoss: 12.292589\n",
      "Train Epoch: 4 [57600/60000 (96%)]\tLoss: 12.516753\n",
      "\n",
      "Train set: Average loss: 3.7202, Accuracy: 56356/60000 (93.9%)\n",
      "\n",
      "\n",
      "Test set: Average loss: 0.1940, Accuracy: 9417/10000 (94.170%)\n",
      "\n",
      "Train Epoch: 5 [0/60000 (0%)]\tLoss: 13.785872\n",
      "Train Epoch: 5 [6400/60000 (11%)]\tLoss: 19.778996\n",
      "Train Epoch: 5 [12800/60000 (21%)]\tLoss: 9.384018\n",
      "Train Epoch: 5 [19200/60000 (32%)]\tLoss: 9.413101\n",
      "Train Epoch: 5 [25600/60000 (43%)]\tLoss: 6.663366\n",
      "Train Epoch: 5 [32000/60000 (53%)]\tLoss: 7.602691\n",
      "Train Epoch: 5 [38400/60000 (64%)]\tLoss: 15.529682\n",
      "Train Epoch: 5 [44800/60000 (75%)]\tLoss: 16.734013\n",
      "Train Epoch: 5 [51200/60000 (85%)]\tLoss: 14.714778\n",
      "Train Epoch: 5 [57600/60000 (96%)]\tLoss: 15.765893\n",
      "\n",
      "Train set: Average loss: 4.3125, Accuracy: 56614/60000 (94.4%)\n",
      "\n",
      "\n",
      "Test set: Average loss: 0.1929, Accuracy: 9430/10000 (94.300%)\n",
      "\n",
      "Train Epoch: 6 [0/60000 (0%)]\tLoss: 3.532277\n",
      "Train Epoch: 6 [6400/60000 (11%)]\tLoss: 2.712317\n",
      "Train Epoch: 6 [12800/60000 (21%)]\tLoss: 11.987323\n",
      "Train Epoch: 6 [19200/60000 (32%)]\tLoss: 14.637372\n",
      "Train Epoch: 6 [25600/60000 (43%)]\tLoss: 7.001372\n",
      "Train Epoch: 6 [32000/60000 (53%)]\tLoss: 11.024664\n",
      "Train Epoch: 6 [38400/60000 (64%)]\tLoss: 7.784504\n",
      "Train Epoch: 6 [44800/60000 (75%)]\tLoss: 14.065246\n",
      "Train Epoch: 6 [51200/60000 (85%)]\tLoss: 6.688790\n",
      "Train Epoch: 6 [57600/60000 (96%)]\tLoss: 13.507374\n",
      "\n",
      "Train set: Average loss: 5.1452, Accuracy: 56887/60000 (94.8%)\n",
      "\n",
      "\n",
      "Test set: Average loss: 0.1843, Accuracy: 9466/10000 (94.660%)\n",
      "\n",
      "Train Epoch: 7 [0/60000 (0%)]\tLoss: 12.949864\n",
      "Train Epoch: 7 [6400/60000 (11%)]\tLoss: 5.073227\n",
      "Train Epoch: 7 [12800/60000 (21%)]\tLoss: 6.069450\n",
      "Train Epoch: 7 [19200/60000 (32%)]\tLoss: 6.437099\n",
      "Train Epoch: 7 [25600/60000 (43%)]\tLoss: 9.589204\n",
      "Train Epoch: 7 [32000/60000 (53%)]\tLoss: 3.435706\n",
      "Train Epoch: 7 [38400/60000 (64%)]\tLoss: 9.634136\n",
      "Train Epoch: 7 [44800/60000 (75%)]\tLoss: 9.750328\n",
      "Train Epoch: 7 [51200/60000 (85%)]\tLoss: 24.357700\n",
      "Train Epoch: 7 [57600/60000 (96%)]\tLoss: 4.159167\n",
      "\n",
      "Train set: Average loss: 1.8588, Accuracy: 57001/60000 (95.0%)\n",
      "\n",
      "\n",
      "Test set: Average loss: 0.1723, Accuracy: 9477/10000 (94.770%)\n",
      "\n",
      "Train Epoch: 8 [0/60000 (0%)]\tLoss: 11.966026\n",
      "Train Epoch: 8 [6400/60000 (11%)]\tLoss: 3.662728\n",
      "Train Epoch: 8 [12800/60000 (21%)]\tLoss: 7.603441\n",
      "Train Epoch: 8 [19200/60000 (32%)]\tLoss: 9.651881\n",
      "Train Epoch: 8 [25600/60000 (43%)]\tLoss: 5.908304\n",
      "Train Epoch: 8 [32000/60000 (53%)]\tLoss: 12.733807\n",
      "Train Epoch: 8 [38400/60000 (64%)]\tLoss: 3.124095\n",
      "Train Epoch: 8 [44800/60000 (75%)]\tLoss: 15.560717\n",
      "Train Epoch: 8 [51200/60000 (85%)]\tLoss: 3.852266\n",
      "Train Epoch: 8 [57600/60000 (96%)]\tLoss: 1.430881\n",
      "\n",
      "Train set: Average loss: 11.7932, Accuracy: 57202/60000 (95.3%)\n",
      "\n",
      "\n",
      "Test set: Average loss: 0.1721, Accuracy: 9499/10000 (94.990%)\n",
      "\n",
      "Train Epoch: 9 [0/60000 (0%)]\tLoss: 5.037245\n",
      "Train Epoch: 9 [6400/60000 (11%)]\tLoss: 15.886609\n",
      "Train Epoch: 9 [12800/60000 (21%)]\tLoss: 6.929808\n",
      "Train Epoch: 9 [19200/60000 (32%)]\tLoss: 17.101524\n",
      "Train Epoch: 9 [25600/60000 (43%)]\tLoss: 6.763334\n",
      "Train Epoch: 9 [32000/60000 (53%)]\tLoss: 19.346756\n",
      "Train Epoch: 9 [38400/60000 (64%)]\tLoss: 17.896311\n",
      "Train Epoch: 9 [44800/60000 (75%)]\tLoss: 7.509126\n",
      "Train Epoch: 9 [51200/60000 (85%)]\tLoss: 9.223871\n",
      "Train Epoch: 9 [57600/60000 (96%)]\tLoss: 7.765047\n",
      "\n",
      "Train set: Average loss: 2.9900, Accuracy: 57327/60000 (95.5%)\n",
      "\n",
      "\n",
      "Test set: Average loss: 0.1731, Accuracy: 9496/10000 (94.960%)\n",
      "\n",
      "Train Epoch: 10 [0/60000 (0%)]\tLoss: 5.933556\n",
      "Train Epoch: 10 [6400/60000 (11%)]\tLoss: 11.996411\n",
      "Train Epoch: 10 [12800/60000 (21%)]\tLoss: 9.836555\n",
      "Train Epoch: 10 [19200/60000 (32%)]\tLoss: 4.079099\n",
      "Train Epoch: 10 [25600/60000 (43%)]\tLoss: 13.613200\n",
      "Train Epoch: 10 [32000/60000 (53%)]\tLoss: 12.718615\n",
      "Train Epoch: 10 [38400/60000 (64%)]\tLoss: 12.013232\n",
      "Train Epoch: 10 [44800/60000 (75%)]\tLoss: 2.968266\n",
      "Train Epoch: 10 [51200/60000 (85%)]\tLoss: 14.114098\n",
      "Train Epoch: 10 [57600/60000 (96%)]\tLoss: 11.844878\n",
      "\n",
      "Train set: Average loss: 0.9533, Accuracy: 57342/60000 (95.6%)\n",
      "\n",
      "\n",
      "Test set: Average loss: 0.1903, Accuracy: 9446/10000 (94.460%)\n",
      "\n",
      "Training is finished.\n"
     ]
    }
   ],
   "source": [
    "epochs = 10\n",
    "for epoch in range(1, epochs + 1):\n",
    "    train(mlp, dl_train, optimizer, epoch, log_interval=100)\n",
    "    test(mlp, dl_test)\n",
    "\n",
    "print ('Training is finished.')"
   ]
  },
  {
   "cell_type": "markdown",
   "metadata": {},
   "source": [
    "After training, you should see test accuracies of > **94%** - By they way, here we report test accuracy, the last exercises reported test error. Accuracy is simply (1 - error). Both metrics are commonly reported, there is no clear preference in literature for one or the other."
   ]
  },
  {
   "cell_type": "markdown",
   "metadata": {},
   "source": [
    "Now, can you do some parameter tuning to boost the test accuracy to > **97%**?"
   ]
  },
  {
   "cell_type": "code",
   "execution_count": 32,
   "metadata": {},
   "outputs": [
    {
     "name": "stdout",
     "output_type": "stream",
     "text": [
      "Train Epoch: 1 [0/60000 (0%)]\tLoss: 146.987595\n",
      "Train Epoch: 1 [6400/60000 (11%)]\tLoss: 53.174618\n",
      "Train Epoch: 1 [12800/60000 (21%)]\tLoss: 33.931622\n",
      "Train Epoch: 1 [19200/60000 (32%)]\tLoss: 33.519459\n",
      "Train Epoch: 1 [25600/60000 (43%)]\tLoss: 22.953892\n",
      "Train Epoch: 1 [32000/60000 (53%)]\tLoss: 28.700104\n",
      "Train Epoch: 1 [38400/60000 (64%)]\tLoss: 17.675243\n",
      "Train Epoch: 1 [44800/60000 (75%)]\tLoss: 8.886673\n",
      "Train Epoch: 1 [51200/60000 (85%)]\tLoss: 21.551580\n",
      "Train Epoch: 1 [57600/60000 (96%)]\tLoss: 18.238354\n",
      "\n",
      "Train set: Average loss: 7.2434, Accuracy: 50000/60000 (83.3%)\n",
      "\n",
      "\n",
      "Test set: Average loss: 0.2548, Accuracy: 9225/10000 (92.250%)\n",
      "\n",
      "Train Epoch: 2 [0/60000 (0%)]\tLoss: 11.344569\n",
      "Train Epoch: 2 [6400/60000 (11%)]\tLoss: 22.047649\n",
      "Train Epoch: 2 [12800/60000 (21%)]\tLoss: 12.754066\n",
      "Train Epoch: 2 [19200/60000 (32%)]\tLoss: 16.773323\n",
      "Train Epoch: 2 [25600/60000 (43%)]\tLoss: 8.132042\n",
      "Train Epoch: 2 [32000/60000 (53%)]\tLoss: 9.189466\n",
      "Train Epoch: 2 [38400/60000 (64%)]\tLoss: 14.446236\n",
      "Train Epoch: 2 [44800/60000 (75%)]\tLoss: 10.886367\n",
      "Train Epoch: 2 [51200/60000 (85%)]\tLoss: 9.281108\n",
      "Train Epoch: 2 [57600/60000 (96%)]\tLoss: 13.368140\n",
      "\n",
      "Train set: Average loss: 11.1414, Accuracy: 56375/60000 (94.0%)\n",
      "\n",
      "\n",
      "Test set: Average loss: 0.1764, Accuracy: 9470/10000 (94.700%)\n",
      "\n",
      "Train Epoch: 3 [0/60000 (0%)]\tLoss: 6.964015\n",
      "Train Epoch: 3 [6400/60000 (11%)]\tLoss: 14.345969\n",
      "Train Epoch: 3 [12800/60000 (21%)]\tLoss: 8.219468\n",
      "Train Epoch: 3 [19200/60000 (32%)]\tLoss: 15.433849\n",
      "Train Epoch: 3 [25600/60000 (43%)]\tLoss: 12.443407\n",
      "Train Epoch: 3 [32000/60000 (53%)]\tLoss: 4.049916\n",
      "Train Epoch: 3 [38400/60000 (64%)]\tLoss: 5.183479\n",
      "Train Epoch: 3 [44800/60000 (75%)]\tLoss: 11.763932\n",
      "Train Epoch: 3 [51200/60000 (85%)]\tLoss: 10.763999\n",
      "Train Epoch: 3 [57600/60000 (96%)]\tLoss: 9.716458\n",
      "\n",
      "Train set: Average loss: 1.4311, Accuracy: 57360/60000 (95.6%)\n",
      "\n",
      "\n",
      "Test set: Average loss: 0.1306, Accuracy: 9610/10000 (96.100%)\n",
      "\n",
      "Train Epoch: 4 [0/60000 (0%)]\tLoss: 7.562253\n",
      "Train Epoch: 4 [6400/60000 (11%)]\tLoss: 19.553743\n",
      "Train Epoch: 4 [12800/60000 (21%)]\tLoss: 0.857132\n",
      "Train Epoch: 4 [19200/60000 (32%)]\tLoss: 5.812405\n",
      "Train Epoch: 4 [25600/60000 (43%)]\tLoss: 7.572369\n",
      "Train Epoch: 4 [32000/60000 (53%)]\tLoss: 5.670729\n",
      "Train Epoch: 4 [38400/60000 (64%)]\tLoss: 3.228477\n",
      "Train Epoch: 4 [44800/60000 (75%)]\tLoss: 2.912751\n",
      "Train Epoch: 4 [51200/60000 (85%)]\tLoss: 14.063072\n",
      "Train Epoch: 4 [57600/60000 (96%)]\tLoss: 1.865130\n",
      "\n",
      "Train set: Average loss: 6.5372, Accuracy: 57773/60000 (96.3%)\n",
      "\n",
      "\n",
      "Test set: Average loss: 0.1259, Accuracy: 9621/10000 (96.210%)\n",
      "\n",
      "Train Epoch: 5 [0/60000 (0%)]\tLoss: 7.320218\n",
      "Train Epoch: 5 [6400/60000 (11%)]\tLoss: 13.650713\n",
      "Train Epoch: 5 [12800/60000 (21%)]\tLoss: 12.206098\n",
      "Train Epoch: 5 [19200/60000 (32%)]\tLoss: 1.813370\n",
      "Train Epoch: 5 [25600/60000 (43%)]\tLoss: 9.199495\n",
      "Train Epoch: 5 [32000/60000 (53%)]\tLoss: 4.902088\n",
      "Train Epoch: 5 [38400/60000 (64%)]\tLoss: 4.900211\n",
      "Train Epoch: 5 [44800/60000 (75%)]\tLoss: 5.955989\n",
      "Train Epoch: 5 [51200/60000 (85%)]\tLoss: 1.927164\n",
      "Train Epoch: 5 [57600/60000 (96%)]\tLoss: 4.305178\n",
      "\n",
      "Train set: Average loss: 0.1758, Accuracy: 58095/60000 (96.8%)\n",
      "\n",
      "\n",
      "Test set: Average loss: 0.1219, Accuracy: 9625/10000 (96.250%)\n",
      "\n",
      "Train Epoch: 6 [0/60000 (0%)]\tLoss: 14.560318\n",
      "Train Epoch: 6 [6400/60000 (11%)]\tLoss: 19.355682\n",
      "Train Epoch: 6 [12800/60000 (21%)]\tLoss: 3.271888\n",
      "Train Epoch: 6 [19200/60000 (32%)]\tLoss: 6.750310\n",
      "Train Epoch: 6 [25600/60000 (43%)]\tLoss: 13.871150\n",
      "Train Epoch: 6 [32000/60000 (53%)]\tLoss: 10.372601\n",
      "Train Epoch: 6 [38400/60000 (64%)]\tLoss: 4.051079\n",
      "Train Epoch: 6 [44800/60000 (75%)]\tLoss: 8.052902\n",
      "Train Epoch: 6 [51200/60000 (85%)]\tLoss: 21.861893\n",
      "Train Epoch: 6 [57600/60000 (96%)]\tLoss: 3.867244\n",
      "\n",
      "Train set: Average loss: 2.9585, Accuracy: 58206/60000 (97.0%)\n",
      "\n",
      "\n",
      "Test set: Average loss: 0.1243, Accuracy: 9648/10000 (96.480%)\n",
      "\n",
      "Train Epoch: 7 [0/60000 (0%)]\tLoss: 3.549524\n",
      "Train Epoch: 7 [6400/60000 (11%)]\tLoss: 7.804174\n",
      "Train Epoch: 7 [12800/60000 (21%)]\tLoss: 4.272171\n",
      "Train Epoch: 7 [19200/60000 (32%)]\tLoss: 2.654177\n",
      "Train Epoch: 7 [25600/60000 (43%)]\tLoss: 9.667011\n",
      "Train Epoch: 7 [32000/60000 (53%)]\tLoss: 1.906310\n",
      "Train Epoch: 7 [38400/60000 (64%)]\tLoss: 4.375954\n",
      "Train Epoch: 7 [44800/60000 (75%)]\tLoss: 11.753859\n",
      "Train Epoch: 7 [51200/60000 (85%)]\tLoss: 0.824613\n",
      "Train Epoch: 7 [57600/60000 (96%)]\tLoss: 4.876547\n",
      "\n",
      "Train set: Average loss: 7.6401, Accuracy: 58424/60000 (97.4%)\n",
      "\n",
      "\n",
      "Test set: Average loss: 0.1162, Accuracy: 9649/10000 (96.490%)\n",
      "\n",
      "Train Epoch: 8 [0/60000 (0%)]\tLoss: 18.567724\n",
      "Train Epoch: 8 [6400/60000 (11%)]\tLoss: 9.788045\n",
      "Train Epoch: 8 [12800/60000 (21%)]\tLoss: 10.028607\n",
      "Train Epoch: 8 [19200/60000 (32%)]\tLoss: 1.061354\n",
      "Train Epoch: 8 [25600/60000 (43%)]\tLoss: 3.647407\n",
      "Train Epoch: 8 [32000/60000 (53%)]\tLoss: 6.519361\n",
      "Train Epoch: 8 [38400/60000 (64%)]\tLoss: 2.614265\n",
      "Train Epoch: 8 [44800/60000 (75%)]\tLoss: 2.494374\n",
      "Train Epoch: 8 [51200/60000 (85%)]\tLoss: 7.091647\n",
      "Train Epoch: 8 [57600/60000 (96%)]\tLoss: 1.533788\n",
      "\n",
      "Train set: Average loss: 0.2449, Accuracy: 58583/60000 (97.6%)\n",
      "\n",
      "\n",
      "Test set: Average loss: 0.1248, Accuracy: 9637/10000 (96.370%)\n",
      "\n",
      "Train Epoch: 9 [0/60000 (0%)]\tLoss: 7.701385\n",
      "Train Epoch: 9 [6400/60000 (11%)]\tLoss: 4.987087\n",
      "Train Epoch: 9 [12800/60000 (21%)]\tLoss: 3.609124\n",
      "Train Epoch: 9 [19200/60000 (32%)]\tLoss: 8.977425\n",
      "Train Epoch: 9 [25600/60000 (43%)]\tLoss: 4.602893\n",
      "Train Epoch: 9 [32000/60000 (53%)]\tLoss: 9.327739\n",
      "Train Epoch: 9 [38400/60000 (64%)]\tLoss: 4.406734\n",
      "Train Epoch: 9 [44800/60000 (75%)]\tLoss: 6.814252\n",
      "Train Epoch: 9 [51200/60000 (85%)]\tLoss: 7.576755\n",
      "Train Epoch: 9 [57600/60000 (96%)]\tLoss: 4.188475\n",
      "\n",
      "Train set: Average loss: 6.5167, Accuracy: 58694/60000 (97.8%)\n",
      "\n",
      "\n",
      "Test set: Average loss: 0.1049, Accuracy: 9687/10000 (96.870%)\n",
      "\n",
      "Train Epoch: 10 [0/60000 (0%)]\tLoss: 2.846983\n",
      "Train Epoch: 10 [6400/60000 (11%)]\tLoss: 0.904369\n",
      "Train Epoch: 10 [12800/60000 (21%)]\tLoss: 5.680314\n",
      "Train Epoch: 10 [19200/60000 (32%)]\tLoss: 6.928670\n",
      "Train Epoch: 10 [25600/60000 (43%)]\tLoss: 0.851514\n",
      "Train Epoch: 10 [32000/60000 (53%)]\tLoss: 3.547232\n",
      "Train Epoch: 10 [38400/60000 (64%)]\tLoss: 4.474660\n",
      "Train Epoch: 10 [44800/60000 (75%)]\tLoss: 0.690823\n",
      "Train Epoch: 10 [51200/60000 (85%)]\tLoss: 6.458410\n",
      "Train Epoch: 10 [57600/60000 (96%)]\tLoss: 3.984521\n",
      "\n",
      "Train set: Average loss: 0.0437, Accuracy: 58784/60000 (98.0%)\n",
      "\n",
      "\n",
      "Test set: Average loss: 0.1042, Accuracy: 9705/10000 (97.050%)\n",
      "\n",
      "Training is finished.\n"
     ]
    }
   ],
   "source": [
    "#########################################################################\n",
    "#TODO: modify the parameters below to see which setting that you can get to 97%\n",
    "#########################################################################\n",
    "nLayer = 4\n",
    "nHidden = 36\n",
    "act_fn = nn.LeakyReLU()\n",
    "\n",
    "# reinitialize the mlp, so we can play with parameters right here\n",
    "mlp = MLP(nInput, nOutput, nLayer, nHidden, act_fn)\n",
    "\n",
    "optimizer = optim.Adam(mlp.parameters())\n",
    "\n",
    "epochs = 10\n",
    "for epoch in range(1, epochs + 1):\n",
    "    train(mlp, dl_train, optimizer, epoch, log_interval=100)\n",
    "    test(mlp, dl_test)\n",
    "\n",
    "print ('Training is finished.')"
   ]
  },
  {
   "cell_type": "markdown",
   "metadata": {},
   "source": [
    "Before you move on to the next exercise, you can further play with the other parameters (learning rate, epochs, a different optimizer, etc.) to get a feeling what can improve or hamper performance. "
   ]
  },
  {
   "cell_type": "markdown",
   "metadata": {},
   "source": [
    "## CNN\n",
    "Alright, we matched our prior performance. Let's surpass it! You will soon see the power of CNN by building a small one yourself. The structure should be as follows\n",
    "\n",
    "| CNN Architecture                             \t|\n",
    "|----------------------------------------------\t|\n",
    "| Conv: $C_{in}=1, C_{out}=32, K=3, S=1, P=0$  \t|\n",
    "| ReLU                                         \t|\n",
    "| Conv: $C_{in}=32, C_{out}=64, K=3, S=1, P=0$ \t|\n",
    "| ReLU                                         \t|\n",
    "| MaxPool2d: $K=2, S=2, P=0$                   \t|\n",
    "| Dropout: $p=0.25$                            \t|\n",
    "| Linear: $C_{in}=9216, C_{out}=128$           \t|\n",
    "| ReLU                                         \t|\n",
    "| Dropout: $p=0.5$                             \t|\n",
    "| Linear: $C_{in}=128, C_{out}=10$             \t|\n",
    "\n",
    "The layers you will need are: \n",
    "\n",
    "`nn.Conv2d,  nn.Linear,  nn.Dropout, nn.MaxPool2d, nn.Flatten`\n",
    "\n",
    "For layers without parameters you can alternatively use function in the forward pass:  \n",
    "\n",
    "`F.max_pool2d, torch.flatten`"
   ]
  },
  {
   "cell_type": "code",
   "execution_count": 18,
   "metadata": {},
   "outputs": [],
   "source": [
    "#########################################################################\n",
    "# TODO: Implement the __init__ and forward method of the CNN class. \n",
    "# Hint: do not forget to flatten the appropriate dimension after the convolutional blocks. \n",
    "# A linear layers expect input of the size (B, H) with batch size B and feature size H\n",
    "#########################################################################\n",
    "\n",
    "class CNN(nn.Module):\n",
    "    def __init__(self):\n",
    "        super(CNN, self).__init__()\n",
    "\n",
    "        self.conv1 = nn.Conv2d(1,32,3,1,0)\n",
    "        self.conv2 = nn.Conv2d(32,64,3,1,0)\n",
    "        self.fc1 = nn.Linear(9216,128)\n",
    "        self.fc2 = nn.Linear(128,10)\n",
    "        self.dropout = nn.Dropout(0.25)\n",
    "\n",
    "    def forward(self, x):\n",
    "#         print(x.size(0))\n",
    "        out = self.conv1(x) # 32 * 26 * 26  W/H = (n-f+2p)/s+1\n",
    "        out = F.relu(out) \n",
    "        out = self.conv2(out) # 64 * 24 * 24\n",
    "        out = F.relu(out)\n",
    "        out = F.max_pool2d(out,2,2) # 64 * 12 * 12 = 9216\n",
    "        out = self.dropout(out)\n",
    "        out = torch.flatten(out,1)\n",
    "        out = self.fc1(out)\n",
    "        out = F.relu(out)\n",
    "        out = self.fc2(out)\n",
    "        return out\n",
    "#         pass\n"
   ]
  },
  {
   "cell_type": "code",
   "execution_count": 19,
   "metadata": {},
   "outputs": [
    {
     "data": {
      "text/plain": [
       "torch.Size([1, 10])"
      ]
     },
     "execution_count": 19,
     "metadata": {},
     "output_type": "execute_result"
    }
   ],
   "source": [
    "# Let's test if the forward pass works\n",
    "# this should print torch.Size([1, 10])\n",
    "t = torch.randn(1,1,28,28)\n",
    "cnn = CNN()\n",
    "cnn(t).shape"
   ]
  },
  {
   "cell_type": "markdown",
   "metadata": {},
   "source": [
    "Alright, let's train!"
   ]
  },
  {
   "cell_type": "code",
   "execution_count": 20,
   "metadata": {},
   "outputs": [],
   "source": [
    "optimizer = optim.Adam(cnn.parameters())"
   ]
  },
  {
   "cell_type": "code",
   "execution_count": 38,
   "metadata": {
    "scrolled": true
   },
   "outputs": [
    {
     "name": "stdout",
     "output_type": "stream",
     "text": [
      "Train Epoch: 1 [0/60000 (0%)]\tLoss: 0.003992\n",
      "Train Epoch: 1 [6400/60000 (11%)]\tLoss: 0.001249\n",
      "Train Epoch: 1 [12800/60000 (21%)]\tLoss: 2.156661\n",
      "Train Epoch: 1 [19200/60000 (32%)]\tLoss: 0.002374\n",
      "Train Epoch: 1 [25600/60000 (43%)]\tLoss: 0.017369\n",
      "Train Epoch: 1 [32000/60000 (53%)]\tLoss: 0.000399\n",
      "Train Epoch: 1 [38400/60000 (64%)]\tLoss: 1.310968\n",
      "Train Epoch: 1 [44800/60000 (75%)]\tLoss: 0.064474\n",
      "Train Epoch: 1 [51200/60000 (85%)]\tLoss: 0.178329\n",
      "Train Epoch: 1 [57600/60000 (96%)]\tLoss: 0.000867\n",
      "\n",
      "Train set: Average loss: 0.0006, Accuracy: 59855/60000 (99.8%)\n",
      "\n",
      "\n",
      "Test set: Average loss: 0.0470, Accuracy: 9906/10000 (99.060%)\n",
      "\n"
     ]
    }
   ],
   "source": [
    "epochs = 1\n",
    "for epoch in range(1, epochs + 1):\n",
    "    train(cnn, dl_train, optimizer, epoch, log_interval=100)\n",
    "    test(cnn, dl_test)"
   ]
  },
  {
   "cell_type": "markdown",
   "metadata": {},
   "source": [
    "This will probably take a bit longer to train, as a convolutional network is not very efficient on a CPU. The current settings should get you around **99%** accuracy. Nice! \n",
    "Again, you should try different hyperparameters and see how far you can push the performance."
   ]
  },
  {
   "cell_type": "markdown",
   "metadata": {},
   "source": [
    "### Inline Question\n",
    "\n",
    "If your model weight is randomly initalized, and no training is done as above. What accuracy do you think the model will get for a 10-class classification task in theory?\n",
    "\n",
    "**Your answer**: \n"
   ]
  },
  {
   "cell_type": "markdown",
   "metadata": {},
   "source": [
    "## Training on CIFAR10\n",
    "\n",
    "Now we are going to move to something more challenging - CIFAR10. We can reuse most of the code above. Thankfully, CIFAR is also a popular dataset, so we can again make use of a PyTorch convience function."
   ]
  },
  {
   "cell_type": "code",
   "execution_count": 21,
   "metadata": {},
   "outputs": [
    {
     "name": "stdout",
     "output_type": "stream",
     "text": [
      "Files already downloaded and verified\n"
     ]
    }
   ],
   "source": [
    "ds_train = datasets.CIFAR10(root='./data', train=True, download=True)"
   ]
  },
  {
   "cell_type": "markdown",
   "metadata": {},
   "source": [
    "This dataset is not normalized yet, so we need to calculate the normalization constants."
   ]
  },
  {
   "cell_type": "code",
   "execution_count": 22,
   "metadata": {},
   "outputs": [],
   "source": [
    "ims_train = torch.tensor(ds_train.data)\n",
    "ims_train = ims_train.float() / 255."
   ]
  },
  {
   "cell_type": "code",
   "execution_count": 23,
   "metadata": {},
   "outputs": [
    {
     "data": {
      "text/plain": [
       "tensor([0.2470, 0.2435, 0.2616])"
      ]
     },
     "execution_count": 23,
     "metadata": {},
     "output_type": "execute_result"
    }
   ],
   "source": [
    "ims_train.std((0,1,2))"
   ]
  },
  {
   "cell_type": "code",
   "execution_count": 24,
   "metadata": {},
   "outputs": [],
   "source": [
    "#########################################################################\n",
    "# TODO: calculate the mean and std of CIFAR\n",
    "# hint: We want the mean and std of the channel dimension, these should\n",
    "# be 3 dimensional\n",
    "#########################################################################\n",
    "mu = 0.0\n",
    "std = 1.0\n",
    "mu = torch.mean(ims_train, dim=(0,1,2))\n",
    "std = torch.std(ims_train, dim=(0,1,2))"
   ]
  },
  {
   "cell_type": "code",
   "execution_count": 25,
   "metadata": {},
   "outputs": [
    {
     "name": "stdout",
     "output_type": "stream",
     "text": [
      "tensor([0.4914, 0.4822, 0.4465])\n",
      "tensor([0.2470, 0.2435, 0.2616])\n"
     ]
    }
   ],
   "source": [
    "print(mu)\n",
    "print(std)"
   ]
  },
  {
   "cell_type": "markdown",
   "metadata": {},
   "source": [
    "For CIFAR we want to make use of data augmentation to improve generalization. You will find all data augmentations data are included in torchvision here:\n",
    "\n",
    "https://pytorch.org/docs/stable/torchvision/transforms.html"
   ]
  },
  {
   "cell_type": "code",
   "execution_count": 26,
   "metadata": {},
   "outputs": [
    {
     "name": "stdout",
     "output_type": "stream",
     "text": [
      "Files already downloaded and verified\n",
      "Files already downloaded and verified\n"
     ]
    }
   ],
   "source": [
    "BATCH_SIZE = 128\n",
    "NUM_WORKERS = 0 # if you encounter some unexpected errors in data loading, try setting `NUM_WORKERS = 0`\n",
    "#########################################################################\n",
    "# TODO: Implement the proper transforms for the training and test dataloaders. \n",
    "# Then build train and test dataloaders with batch size 128 and 4 workers\n",
    "#\n",
    "# Train: \n",
    "# - Apply a random crop with size 32 on a padded version of the image with P=4\n",
    "# - Flip the image horizontally with a probability of 40 %\n",
    "# - Transform to a Tensor\n",
    "# - Normalize with the constants calculated above\n",
    "# Test: \n",
    "# - Transform to a Tensor\n",
    "# - Normalize with the constants calculated above\n",
    "#########################################################################\n",
    "transform_train = transforms.Compose([\n",
    "    transforms.RandomCrop(32,4),\n",
    "    transforms.RandomHorizontalFlip(0.4),\n",
    "    transforms.ToTensor(),\n",
    "    transforms.Normalize((0.4914, 0.4822, 0.4465), (0.2470, 0.2435, 0.2616))])\n",
    "\n",
    "transform_test = transforms.Compose([\n",
    "    transforms.ToTensor(),\n",
    "    transforms.Normalize((0.4914, 0.4822, 0.4465), (0.2470, 0.2435, 0.2616))])\n",
    "\n",
    "ds_train = datasets.CIFAR10('./data', train=True, download=True, transform=transform_train)\n",
    "ds_test = datasets.CIFAR10('./data', train=False, download=True, transform=transform_test)\n",
    "\n",
    "# dl_train = None\n",
    "# dl_test = None\n",
    "dl_train = DataLoader(ds_train, batch_size=BATCH_SIZE, num_workers=NUM_WORKERS, shuffle = True)\n",
    "dl_test = DataLoader(ds_test, batch_size=BATCH_SIZE, num_workers=NUM_WORKERS, shuffle = False)"
   ]
  },
  {
   "cell_type": "markdown",
   "metadata": {},
   "source": [
    "Setting up the  optimizer, this time we use SGD. The scheduler adapts the learning rate during traing (you can ignore it)"
   ]
  },
  {
   "cell_type": "code",
   "execution_count": 28,
   "metadata": {},
   "outputs": [],
   "source": [
    "cnn = CNN()\n",
    "optimizer = optim.SGD(cnn.parameters(), lr=0.1, momentum=0.9, weight_decay=5e-4)\n",
    "scheduler = torch.optim.lr_scheduler.CosineAnnealingLR(optimizer, T_max=200)"
   ]
  },
  {
   "cell_type": "code",
   "execution_count": 56,
   "metadata": {
    "scrolled": true
   },
   "outputs": [
    {
     "ename": "RuntimeError",
     "evalue": "Given groups=1, weight of size [32, 1, 3, 3], expected input[128, 3, 32, 32] to have 1 channels, but got 3 channels instead",
     "output_type": "error",
     "traceback": [
      "\u001B[1;31m---------------------------------------------------------------------------\u001B[0m",
      "\u001B[1;31mRuntimeError\u001B[0m                              Traceback (most recent call last)",
      "\u001B[1;32m~\\AppData\\Local\\Temp/ipykernel_1044/1998290839.py\u001B[0m in \u001B[0;36m<module>\u001B[1;34m\u001B[0m\n\u001B[0;32m      1\u001B[0m \u001B[0mepochs\u001B[0m \u001B[1;33m=\u001B[0m \u001B[1;36m5\u001B[0m\u001B[1;33m\u001B[0m\u001B[1;33m\u001B[0m\u001B[0m\n\u001B[0;32m      2\u001B[0m \u001B[1;32mfor\u001B[0m \u001B[0mepoch\u001B[0m \u001B[1;32min\u001B[0m \u001B[0mrange\u001B[0m\u001B[1;33m(\u001B[0m\u001B[1;36m1\u001B[0m\u001B[1;33m,\u001B[0m \u001B[0mepochs\u001B[0m \u001B[1;33m+\u001B[0m \u001B[1;36m1\u001B[0m\u001B[1;33m)\u001B[0m\u001B[1;33m:\u001B[0m\u001B[1;33m\u001B[0m\u001B[1;33m\u001B[0m\u001B[0m\n\u001B[1;32m----> 3\u001B[1;33m     \u001B[0mtrain\u001B[0m\u001B[1;33m(\u001B[0m\u001B[0mcnn\u001B[0m\u001B[1;33m,\u001B[0m \u001B[0mdl_train\u001B[0m\u001B[1;33m,\u001B[0m \u001B[0moptimizer\u001B[0m\u001B[1;33m,\u001B[0m \u001B[0mepoch\u001B[0m\u001B[1;33m,\u001B[0m \u001B[0mlog_interval\u001B[0m\u001B[1;33m=\u001B[0m\u001B[1;36m100\u001B[0m\u001B[1;33m)\u001B[0m\u001B[1;33m\u001B[0m\u001B[1;33m\u001B[0m\u001B[0m\n\u001B[0m\u001B[0;32m      4\u001B[0m     \u001B[0mtest\u001B[0m\u001B[1;33m(\u001B[0m\u001B[0mcnn\u001B[0m\u001B[1;33m,\u001B[0m \u001B[0mdl_test\u001B[0m\u001B[1;33m)\u001B[0m\u001B[1;33m\u001B[0m\u001B[1;33m\u001B[0m\u001B[0m\n\u001B[0;32m      5\u001B[0m     \u001B[0mscheduler\u001B[0m\u001B[1;33m.\u001B[0m\u001B[0mstep\u001B[0m\u001B[1;33m(\u001B[0m\u001B[1;33m)\u001B[0m\u001B[1;33m\u001B[0m\u001B[1;33m\u001B[0m\u001B[0m\n",
      "\u001B[1;32m~\\AppData\\Local\\Temp/ipykernel_1044/3593728610.py\u001B[0m in \u001B[0;36mtrain\u001B[1;34m(model, dl_train, optimizer, epoch, log_interval, device)\u001B[0m\n\u001B[0;32m     15\u001B[0m \u001B[1;33m\u001B[0m\u001B[0m\n\u001B[0;32m     16\u001B[0m         \u001B[1;31m##### implement this part #####\u001B[0m\u001B[1;33m\u001B[0m\u001B[1;33m\u001B[0m\u001B[0m\n\u001B[1;32m---> 17\u001B[1;33m         \u001B[0moutput\u001B[0m \u001B[1;33m=\u001B[0m \u001B[0mmodel\u001B[0m\u001B[1;33m(\u001B[0m\u001B[0mdata\u001B[0m\u001B[1;33m)\u001B[0m\u001B[1;33m\u001B[0m\u001B[1;33m\u001B[0m\u001B[0m\n\u001B[0m\u001B[0;32m     18\u001B[0m         \u001B[0mloss\u001B[0m \u001B[1;33m=\u001B[0m \u001B[0mF\u001B[0m\u001B[1;33m.\u001B[0m\u001B[0mcross_entropy\u001B[0m\u001B[1;33m(\u001B[0m\u001B[0moutput\u001B[0m\u001B[1;33m,\u001B[0m \u001B[0mtarget\u001B[0m\u001B[1;33m,\u001B[0m \u001B[0mreduction\u001B[0m\u001B[1;33m=\u001B[0m\u001B[1;34m'sum'\u001B[0m\u001B[1;33m)\u001B[0m\u001B[1;33m\u001B[0m\u001B[1;33m\u001B[0m\u001B[0m\n\u001B[0;32m     19\u001B[0m         \u001B[0mloss\u001B[0m\u001B[1;33m.\u001B[0m\u001B[0mbackward\u001B[0m\u001B[1;33m(\u001B[0m\u001B[1;33m)\u001B[0m\u001B[1;33m\u001B[0m\u001B[1;33m\u001B[0m\u001B[0m\n",
      "\u001B[1;32mF:\\anaconda3\\lib\\site-packages\\torch\\nn\\modules\\module.py\u001B[0m in \u001B[0;36m_call_impl\u001B[1;34m(self, *input, **kwargs)\u001B[0m\n\u001B[0;32m   1128\u001B[0m         if not (self._backward_hooks or self._forward_hooks or self._forward_pre_hooks or _global_backward_hooks\n\u001B[0;32m   1129\u001B[0m                 or _global_forward_hooks or _global_forward_pre_hooks):\n\u001B[1;32m-> 1130\u001B[1;33m             \u001B[1;32mreturn\u001B[0m \u001B[0mforward_call\u001B[0m\u001B[1;33m(\u001B[0m\u001B[1;33m*\u001B[0m\u001B[0minput\u001B[0m\u001B[1;33m,\u001B[0m \u001B[1;33m**\u001B[0m\u001B[0mkwargs\u001B[0m\u001B[1;33m)\u001B[0m\u001B[1;33m\u001B[0m\u001B[1;33m\u001B[0m\u001B[0m\n\u001B[0m\u001B[0;32m   1131\u001B[0m         \u001B[1;31m# Do not call functions when jit is used\u001B[0m\u001B[1;33m\u001B[0m\u001B[1;33m\u001B[0m\u001B[0m\n\u001B[0;32m   1132\u001B[0m         \u001B[0mfull_backward_hooks\u001B[0m\u001B[1;33m,\u001B[0m \u001B[0mnon_full_backward_hooks\u001B[0m \u001B[1;33m=\u001B[0m \u001B[1;33m[\u001B[0m\u001B[1;33m]\u001B[0m\u001B[1;33m,\u001B[0m \u001B[1;33m[\u001B[0m\u001B[1;33m]\u001B[0m\u001B[1;33m\u001B[0m\u001B[1;33m\u001B[0m\u001B[0m\n",
      "\u001B[1;32m~\\AppData\\Local\\Temp/ipykernel_1044/693148371.py\u001B[0m in \u001B[0;36mforward\u001B[1;34m(self, x)\u001B[0m\n\u001B[0;32m     17\u001B[0m     \u001B[1;32mdef\u001B[0m \u001B[0mforward\u001B[0m\u001B[1;33m(\u001B[0m\u001B[0mself\u001B[0m\u001B[1;33m,\u001B[0m \u001B[0mx\u001B[0m\u001B[1;33m)\u001B[0m\u001B[1;33m:\u001B[0m\u001B[1;33m\u001B[0m\u001B[1;33m\u001B[0m\u001B[0m\n\u001B[0;32m     18\u001B[0m \u001B[1;31m#         print(x.size(0))\u001B[0m\u001B[1;33m\u001B[0m\u001B[1;33m\u001B[0m\u001B[0m\n\u001B[1;32m---> 19\u001B[1;33m         \u001B[0mout\u001B[0m \u001B[1;33m=\u001B[0m \u001B[0mself\u001B[0m\u001B[1;33m.\u001B[0m\u001B[0mconv1\u001B[0m\u001B[1;33m(\u001B[0m\u001B[0mx\u001B[0m\u001B[1;33m)\u001B[0m \u001B[1;31m# 32 * 26 * 26  W/H = (n-f+2p)/s+1\u001B[0m\u001B[1;33m\u001B[0m\u001B[1;33m\u001B[0m\u001B[0m\n\u001B[0m\u001B[0;32m     20\u001B[0m         \u001B[0mout\u001B[0m \u001B[1;33m=\u001B[0m \u001B[0mF\u001B[0m\u001B[1;33m.\u001B[0m\u001B[0mrelu\u001B[0m\u001B[1;33m(\u001B[0m\u001B[0mout\u001B[0m\u001B[1;33m)\u001B[0m\u001B[1;33m\u001B[0m\u001B[1;33m\u001B[0m\u001B[0m\n\u001B[0;32m     21\u001B[0m         \u001B[0mout\u001B[0m \u001B[1;33m=\u001B[0m \u001B[0mself\u001B[0m\u001B[1;33m.\u001B[0m\u001B[0mconv2\u001B[0m\u001B[1;33m(\u001B[0m\u001B[0mout\u001B[0m\u001B[1;33m)\u001B[0m \u001B[1;31m# 64 * 24 * 24\u001B[0m\u001B[1;33m\u001B[0m\u001B[1;33m\u001B[0m\u001B[0m\n",
      "\u001B[1;32mF:\\anaconda3\\lib\\site-packages\\torch\\nn\\modules\\module.py\u001B[0m in \u001B[0;36m_call_impl\u001B[1;34m(self, *input, **kwargs)\u001B[0m\n\u001B[0;32m   1128\u001B[0m         if not (self._backward_hooks or self._forward_hooks or self._forward_pre_hooks or _global_backward_hooks\n\u001B[0;32m   1129\u001B[0m                 or _global_forward_hooks or _global_forward_pre_hooks):\n\u001B[1;32m-> 1130\u001B[1;33m             \u001B[1;32mreturn\u001B[0m \u001B[0mforward_call\u001B[0m\u001B[1;33m(\u001B[0m\u001B[1;33m*\u001B[0m\u001B[0minput\u001B[0m\u001B[1;33m,\u001B[0m \u001B[1;33m**\u001B[0m\u001B[0mkwargs\u001B[0m\u001B[1;33m)\u001B[0m\u001B[1;33m\u001B[0m\u001B[1;33m\u001B[0m\u001B[0m\n\u001B[0m\u001B[0;32m   1131\u001B[0m         \u001B[1;31m# Do not call functions when jit is used\u001B[0m\u001B[1;33m\u001B[0m\u001B[1;33m\u001B[0m\u001B[0m\n\u001B[0;32m   1132\u001B[0m         \u001B[0mfull_backward_hooks\u001B[0m\u001B[1;33m,\u001B[0m \u001B[0mnon_full_backward_hooks\u001B[0m \u001B[1;33m=\u001B[0m \u001B[1;33m[\u001B[0m\u001B[1;33m]\u001B[0m\u001B[1;33m,\u001B[0m \u001B[1;33m[\u001B[0m\u001B[1;33m]\u001B[0m\u001B[1;33m\u001B[0m\u001B[1;33m\u001B[0m\u001B[0m\n",
      "\u001B[1;32mF:\\anaconda3\\lib\\site-packages\\torch\\nn\\modules\\conv.py\u001B[0m in \u001B[0;36mforward\u001B[1;34m(self, input)\u001B[0m\n\u001B[0;32m    455\u001B[0m \u001B[1;33m\u001B[0m\u001B[0m\n\u001B[0;32m    456\u001B[0m     \u001B[1;32mdef\u001B[0m \u001B[0mforward\u001B[0m\u001B[1;33m(\u001B[0m\u001B[0mself\u001B[0m\u001B[1;33m,\u001B[0m \u001B[0minput\u001B[0m\u001B[1;33m:\u001B[0m \u001B[0mTensor\u001B[0m\u001B[1;33m)\u001B[0m \u001B[1;33m->\u001B[0m \u001B[0mTensor\u001B[0m\u001B[1;33m:\u001B[0m\u001B[1;33m\u001B[0m\u001B[1;33m\u001B[0m\u001B[0m\n\u001B[1;32m--> 457\u001B[1;33m         \u001B[1;32mreturn\u001B[0m \u001B[0mself\u001B[0m\u001B[1;33m.\u001B[0m\u001B[0m_conv_forward\u001B[0m\u001B[1;33m(\u001B[0m\u001B[0minput\u001B[0m\u001B[1;33m,\u001B[0m \u001B[0mself\u001B[0m\u001B[1;33m.\u001B[0m\u001B[0mweight\u001B[0m\u001B[1;33m,\u001B[0m \u001B[0mself\u001B[0m\u001B[1;33m.\u001B[0m\u001B[0mbias\u001B[0m\u001B[1;33m)\u001B[0m\u001B[1;33m\u001B[0m\u001B[1;33m\u001B[0m\u001B[0m\n\u001B[0m\u001B[0;32m    458\u001B[0m \u001B[1;33m\u001B[0m\u001B[0m\n\u001B[0;32m    459\u001B[0m \u001B[1;32mclass\u001B[0m \u001B[0mConv3d\u001B[0m\u001B[1;33m(\u001B[0m\u001B[0m_ConvNd\u001B[0m\u001B[1;33m)\u001B[0m\u001B[1;33m:\u001B[0m\u001B[1;33m\u001B[0m\u001B[1;33m\u001B[0m\u001B[0m\n",
      "\u001B[1;32mF:\\anaconda3\\lib\\site-packages\\torch\\nn\\modules\\conv.py\u001B[0m in \u001B[0;36m_conv_forward\u001B[1;34m(self, input, weight, bias)\u001B[0m\n\u001B[0;32m    451\u001B[0m                             \u001B[0mweight\u001B[0m\u001B[1;33m,\u001B[0m \u001B[0mbias\u001B[0m\u001B[1;33m,\u001B[0m \u001B[0mself\u001B[0m\u001B[1;33m.\u001B[0m\u001B[0mstride\u001B[0m\u001B[1;33m,\u001B[0m\u001B[1;33m\u001B[0m\u001B[1;33m\u001B[0m\u001B[0m\n\u001B[0;32m    452\u001B[0m                             _pair(0), self.dilation, self.groups)\n\u001B[1;32m--> 453\u001B[1;33m         return F.conv2d(input, weight, bias, self.stride,\n\u001B[0m\u001B[0;32m    454\u001B[0m                         self.padding, self.dilation, self.groups)\n\u001B[0;32m    455\u001B[0m \u001B[1;33m\u001B[0m\u001B[0m\n",
      "\u001B[1;31mRuntimeError\u001B[0m: Given groups=1, weight of size [32, 1, 3, 3], expected input[128, 3, 32, 32] to have 1 channels, but got 3 channels instead"
     ]
    }
   ],
   "source": [
    "epochs = 5\n",
    "for epoch in range(1, epochs + 1):\n",
    "    train(cnn, dl_train, optimizer, epoch, log_interval=100)\n",
    "    test(cnn, dl_test)    \n",
    "    scheduler.step()"
   ]
  },
  {
   "cell_type": "markdown",
   "metadata": {},
   "source": [
    "This will not work. You should see the following error message\n",
    "\n",
    "```\n",
    "Given groups=1, weight of size [32, 1, 3, 3], expected input[128, 3, 32, 32] to have 1 channels, but got 3 channels instead\n",
    "```\n",
    "\n",
    "This error is telling us that something is not right in the definition of our model. Copy the CNN class from above and make changes, so the training works."
   ]
  },
  {
   "cell_type": "code",
   "execution_count": 29,
   "metadata": {},
   "outputs": [],
   "source": [
    "#########################################################################\n",
    "# TODO: Adapt the definition from the CNN class above to work on CIFAR.\n",
    "# You can copy and run the following prompt for evaluation:\n",
    "# CNN()(torch.randn(1,3,32,32)).shape\n",
    "# It should print 'torch.Size([1, 10])'\n",
    "# Hint: You need to change 2 things. \n",
    "#########################################################################\n",
    "class CNN(nn.Module):\n",
    "    def __init__(self):\n",
    "        super(CNN, self).__init__()\n",
    "\n",
    "        self.conv1 = nn.Conv2d(3,32,3,1,0)\n",
    "        self.conv2 = nn.Conv2d(32,64,3,1,0)\n",
    "        self.fc1 = nn.Linear(12544,128)\n",
    "        self.fc2 = nn.Linear(128,10)\n",
    "        self.dropout1 = nn.Dropout(0.25)\n",
    "        self.dropout2 = nn.Dropout(0.5)\n",
    "\n",
    "    def forward(self, x):\n",
    "#         print(x.size(0))\n",
    "        out = self.conv1(x) # 32 * 30 * 30  W/H = (n-f+2p)/s+1\n",
    "        out = F.relu(out) \n",
    "        out = self.conv2(out) # 64 * 28 * 28\n",
    "        out = F.relu(out)\n",
    "        out = F.max_pool2d(out,2,2) # 64 * 14 * 14 = 12544\n",
    "        out = self.dropout1(out)\n",
    "        out = torch.flatten(out,1)\n",
    "        out = self.fc1(out)\n",
    "        out = F.relu(out)\n",
    "        out = self.dropout2(out)\n",
    "        out = self.fc2(out)\n",
    "        return out\n",
    "#         pass\n",
    "\n",
    "# CNN()(torch.randn(1,3,32,32)).shape\n",
    "# class CNN(nn.Module):\n",
    "#     def __init__(self):\n",
    "#         super(CNN, self).__init__()\n",
    "\n",
    "#     def forward(self, x):\n",
    "#         pass"
   ]
  },
  {
   "cell_type": "markdown",
   "metadata": {},
   "source": [
    "Let's try again"
   ]
  },
  {
   "cell_type": "code",
   "execution_count": 30,
   "metadata": {
    "scrolled": true
   },
   "outputs": [
    {
     "name": "stdout",
     "output_type": "stream",
     "text": [
      "Train Epoch: 1 [0/50000 (0%)]\tLoss: 2.299519\n",
      "Train Epoch: 1 [12800/50000 (26%)]\tLoss: 1.882440\n",
      "Train Epoch: 1 [25600/50000 (51%)]\tLoss: 1.835410\n",
      "Train Epoch: 1 [38400/50000 (77%)]\tLoss: 1.924844\n",
      "\n",
      "Train set: Average loss: 1.5553, Accuracy: 13195/50000 (26.4%)\n",
      "\n",
      "\n",
      "Test set: Average loss: 1.7516, Accuracy: 3642/10000 (36.420%)\n",
      "\n",
      "Train Epoch: 2 [0/50000 (0%)]\tLoss: 1.993823\n",
      "Train Epoch: 2 [12800/50000 (26%)]\tLoss: 1.852725\n",
      "Train Epoch: 2 [25600/50000 (51%)]\tLoss: 1.714410\n",
      "Train Epoch: 2 [38400/50000 (77%)]\tLoss: 1.760917\n",
      "\n",
      "Train set: Average loss: 1.8621, Accuracy: 16286/50000 (32.6%)\n",
      "\n",
      "\n",
      "Test set: Average loss: 1.6181, Accuracy: 4031/10000 (40.310%)\n",
      "\n",
      "Train Epoch: 3 [0/50000 (0%)]\tLoss: 1.863529\n",
      "Train Epoch: 3 [12800/50000 (26%)]\tLoss: 1.605050\n",
      "Train Epoch: 3 [25600/50000 (51%)]\tLoss: 1.698914\n",
      "Train Epoch: 3 [38400/50000 (77%)]\tLoss: 1.859817\n",
      "\n",
      "Train set: Average loss: 1.6399, Accuracy: 17911/50000 (35.8%)\n",
      "\n",
      "\n",
      "Test set: Average loss: 1.5098, Accuracy: 4516/10000 (45.160%)\n",
      "\n",
      "Train Epoch: 4 [0/50000 (0%)]\tLoss: 1.794724\n",
      "Train Epoch: 4 [12800/50000 (26%)]\tLoss: 1.665971\n",
      "Train Epoch: 4 [25600/50000 (51%)]\tLoss: 1.753165\n",
      "Train Epoch: 4 [38400/50000 (77%)]\tLoss: 1.559047\n",
      "\n",
      "Train set: Average loss: 1.6942, Accuracy: 18938/50000 (37.9%)\n",
      "\n",
      "\n",
      "Test set: Average loss: 1.5194, Accuracy: 4458/10000 (44.580%)\n",
      "\n",
      "Train Epoch: 5 [0/50000 (0%)]\tLoss: 1.601880\n",
      "Train Epoch: 5 [12800/50000 (26%)]\tLoss: 1.513220\n",
      "Train Epoch: 5 [25600/50000 (51%)]\tLoss: 1.654283\n",
      "Train Epoch: 5 [38400/50000 (77%)]\tLoss: 1.850303\n",
      "\n",
      "Train set: Average loss: 1.3974, Accuracy: 19151/50000 (38.3%)\n",
      "\n",
      "\n",
      "Test set: Average loss: 1.4741, Accuracy: 4677/10000 (46.770%)\n",
      "\n",
      "Train Epoch: 6 [0/50000 (0%)]\tLoss: 1.571883\n",
      "Train Epoch: 6 [12800/50000 (26%)]\tLoss: 1.708805\n",
      "Train Epoch: 6 [25600/50000 (51%)]\tLoss: 1.699988\n",
      "Train Epoch: 6 [38400/50000 (77%)]\tLoss: 1.607775\n",
      "\n",
      "Train set: Average loss: 1.7360, Accuracy: 19532/50000 (39.1%)\n",
      "\n",
      "\n",
      "Test set: Average loss: 1.5685, Accuracy: 4466/10000 (44.660%)\n",
      "\n",
      "Train Epoch: 7 [0/50000 (0%)]\tLoss: 1.710410\n",
      "Train Epoch: 7 [12800/50000 (26%)]\tLoss: 1.769691\n",
      "Train Epoch: 7 [25600/50000 (51%)]\tLoss: 1.669067\n",
      "Train Epoch: 7 [38400/50000 (77%)]\tLoss: 1.763280\n",
      "\n",
      "Train set: Average loss: 1.6004, Accuracy: 19224/50000 (38.4%)\n",
      "\n",
      "\n",
      "Test set: Average loss: 1.4453, Accuracy: 4759/10000 (47.590%)\n",
      "\n",
      "Train Epoch: 8 [0/50000 (0%)]\tLoss: 1.809430\n",
      "Train Epoch: 8 [12800/50000 (26%)]\tLoss: 1.648099\n",
      "Train Epoch: 8 [25600/50000 (51%)]\tLoss: 1.767972\n",
      "Train Epoch: 8 [38400/50000 (77%)]\tLoss: 1.736532\n",
      "\n",
      "Train set: Average loss: 1.5873, Accuracy: 19968/50000 (39.9%)\n",
      "\n",
      "\n",
      "Test set: Average loss: 1.4602, Accuracy: 4686/10000 (46.860%)\n",
      "\n",
      "Train Epoch: 9 [0/50000 (0%)]\tLoss: 1.716774\n",
      "Train Epoch: 9 [12800/50000 (26%)]\tLoss: 1.753958\n",
      "Train Epoch: 9 [25600/50000 (51%)]\tLoss: 1.847094\n",
      "Train Epoch: 9 [38400/50000 (77%)]\tLoss: 1.829867\n",
      "\n",
      "Train set: Average loss: 1.6685, Accuracy: 20220/50000 (40.4%)\n",
      "\n",
      "\n",
      "Test set: Average loss: 1.4380, Accuracy: 4801/10000 (48.010%)\n",
      "\n",
      "Train Epoch: 10 [0/50000 (0%)]\tLoss: 1.650178\n",
      "Train Epoch: 10 [12800/50000 (26%)]\tLoss: 1.666198\n",
      "Train Epoch: 10 [25600/50000 (51%)]\tLoss: 1.588740\n",
      "Train Epoch: 10 [38400/50000 (77%)]\tLoss: 1.763394\n",
      "\n",
      "Train set: Average loss: 1.8489, Accuracy: 20830/50000 (41.7%)\n",
      "\n",
      "\n",
      "Test set: Average loss: 1.4472, Accuracy: 4869/10000 (48.690%)\n",
      "\n"
     ]
    }
   ],
   "source": [
    "cnn = CNN()\n",
    "optimizer = optim.SGD(cnn.parameters(), lr=0.1, momentum=0.9, weight_decay=5e-4)\n",
    "# optimizer = optim.Adam(cnn.parameters())\n",
    "scheduler = torch.optim.lr_scheduler.CosineAnnealingLR(optimizer, T_max=200)\n",
    "\n",
    "epochs = 10\n",
    "for epoch in range(1, epochs + 1):\n",
    "    train(cnn, dl_train, optimizer, epoch, log_interval=100)\n",
    "    test(cnn, dl_test)    \n",
    "    scheduler.step()"
   ]
  },
  {
   "cell_type": "markdown",
   "metadata": {},
   "source": [
    "This should give 40 - 50 % - and if you are not already on Colab it will give you a stressed out laptop. The performance is a lot better than random, but we can definitely do better."
   ]
  },
  {
   "cell_type": "markdown",
   "metadata": {},
   "source": [
    "### Have fun with GPUs\n",
    "You can already call it a day until this point because we won't grade the rest of the excecise. You can have more fun with the rest :)\n"
   ]
  },
  {
   "cell_type": "markdown",
   "metadata": {},
   "source": [
    "\n",
    "If you didn't already, move to colab. To use a GPU, follow on the collaboratory menu tabs, \"Runtime\" => \"Change runtime type\" and set it to GPU. Then run the same training loop but now on GPU. \n",
    "\n",
    "It as easy as:"
   ]
  },
  {
   "cell_type": "code",
   "execution_count": 32,
   "metadata": {},
   "outputs": [
    {
     "name": "stdout",
     "output_type": "stream",
     "text": [
      "Train Epoch: 1 [0/50000 (0%)]\tLoss: 2.286153\n",
      "Train Epoch: 1 [12800/50000 (26%)]\tLoss: 2.006392\n",
      "Train Epoch: 1 [25600/50000 (51%)]\tLoss: 1.806562\n",
      "Train Epoch: 1 [38400/50000 (77%)]\tLoss: 1.754887\n",
      "\n",
      "Train set: Average loss: 1.5760, Accuracy: 16804/50000 (33.6%)\n",
      "\n",
      "\n",
      "Test set: Average loss: 1.4282, Accuracy: 4774/10000 (47.740%)\n",
      "\n",
      "Train Epoch: 2 [0/50000 (0%)]\tLoss: 1.548702\n",
      "Train Epoch: 2 [12800/50000 (26%)]\tLoss: 1.479338\n",
      "Train Epoch: 2 [25600/50000 (51%)]\tLoss: 1.474455\n",
      "Train Epoch: 2 [38400/50000 (77%)]\tLoss: 1.536014\n",
      "\n",
      "Train set: Average loss: 1.3580, Accuracy: 22174/50000 (44.3%)\n",
      "\n",
      "\n",
      "Test set: Average loss: 1.2551, Accuracy: 5499/10000 (54.990%)\n",
      "\n",
      "Train Epoch: 3 [0/50000 (0%)]\tLoss: 1.597003\n",
      "Train Epoch: 3 [12800/50000 (26%)]\tLoss: 1.500440\n",
      "Train Epoch: 3 [25600/50000 (51%)]\tLoss: 1.412754\n",
      "Train Epoch: 3 [38400/50000 (77%)]\tLoss: 1.597659\n",
      "\n",
      "Train set: Average loss: 1.2434, Accuracy: 24873/50000 (49.7%)\n",
      "\n",
      "\n",
      "Test set: Average loss: 1.1233, Accuracy: 5994/10000 (59.940%)\n",
      "\n",
      "Train Epoch: 4 [0/50000 (0%)]\tLoss: 1.239423\n",
      "Train Epoch: 4 [12800/50000 (26%)]\tLoss: 1.340474\n",
      "Train Epoch: 4 [25600/50000 (51%)]\tLoss: 1.177356\n",
      "Train Epoch: 4 [38400/50000 (77%)]\tLoss: 1.267761\n",
      "\n",
      "Train set: Average loss: 1.2090, Accuracy: 26885/50000 (53.8%)\n",
      "\n",
      "\n",
      "Test set: Average loss: 1.0343, Accuracy: 6385/10000 (63.850%)\n",
      "\n",
      "Train Epoch: 5 [0/50000 (0%)]\tLoss: 1.280866\n",
      "Train Epoch: 5 [12800/50000 (26%)]\tLoss: 1.080896\n",
      "Train Epoch: 5 [25600/50000 (51%)]\tLoss: 1.238229\n",
      "Train Epoch: 5 [38400/50000 (77%)]\tLoss: 1.249953\n",
      "\n",
      "Train set: Average loss: 1.1120, Accuracy: 28218/50000 (56.4%)\n",
      "\n",
      "\n",
      "Test set: Average loss: 0.9895, Accuracy: 6510/10000 (65.100%)\n",
      "\n",
      "Train Epoch: 6 [0/50000 (0%)]\tLoss: 0.982636\n",
      "Train Epoch: 6 [12800/50000 (26%)]\tLoss: 1.253603\n",
      "Train Epoch: 6 [25600/50000 (51%)]\tLoss: 1.277949\n",
      "Train Epoch: 6 [38400/50000 (77%)]\tLoss: 1.366495\n",
      "\n",
      "Train set: Average loss: 1.2270, Accuracy: 28982/50000 (58.0%)\n",
      "\n",
      "\n",
      "Test set: Average loss: 0.9481, Accuracy: 6688/10000 (66.880%)\n",
      "\n",
      "Train Epoch: 7 [0/50000 (0%)]\tLoss: 1.185452\n",
      "Train Epoch: 7 [12800/50000 (26%)]\tLoss: 1.193212\n",
      "Train Epoch: 7 [25600/50000 (51%)]\tLoss: 1.209238\n",
      "Train Epoch: 7 [38400/50000 (77%)]\tLoss: 1.101542\n",
      "\n",
      "Train set: Average loss: 1.1925, Accuracy: 29868/50000 (59.7%)\n",
      "\n",
      "\n",
      "Test set: Average loss: 0.9021, Accuracy: 6852/10000 (68.520%)\n",
      "\n",
      "Train Epoch: 8 [0/50000 (0%)]\tLoss: 1.094174\n",
      "Train Epoch: 8 [12800/50000 (26%)]\tLoss: 1.132663\n",
      "Train Epoch: 8 [25600/50000 (51%)]\tLoss: 1.057196\n",
      "Train Epoch: 8 [38400/50000 (77%)]\tLoss: 1.265866\n",
      "\n",
      "Train set: Average loss: 1.0447, Accuracy: 30222/50000 (60.4%)\n",
      "\n",
      "\n",
      "Test set: Average loss: 0.8772, Accuracy: 6929/10000 (69.290%)\n",
      "\n",
      "Train Epoch: 9 [0/50000 (0%)]\tLoss: 1.115069\n",
      "Train Epoch: 9 [12800/50000 (26%)]\tLoss: 1.105033\n",
      "Train Epoch: 9 [25600/50000 (51%)]\tLoss: 1.179320\n",
      "Train Epoch: 9 [38400/50000 (77%)]\tLoss: 0.978310\n",
      "\n",
      "Train set: Average loss: 1.3963, Accuracy: 30703/50000 (61.4%)\n",
      "\n",
      "\n",
      "Test set: Average loss: 0.8600, Accuracy: 6993/10000 (69.930%)\n",
      "\n",
      "Train Epoch: 10 [0/50000 (0%)]\tLoss: 1.232137\n",
      "Train Epoch: 10 [12800/50000 (26%)]\tLoss: 1.097205\n",
      "Train Epoch: 10 [25600/50000 (51%)]\tLoss: 1.214054\n",
      "Train Epoch: 10 [38400/50000 (77%)]\tLoss: 1.129027\n",
      "\n",
      "Train set: Average loss: 0.9980, Accuracy: 31168/50000 (62.3%)\n",
      "\n",
      "\n",
      "Test set: Average loss: 0.8653, Accuracy: 6970/10000 (69.700%)\n",
      "\n"
     ]
    }
   ],
   "source": [
    "device = 'cuda'\n",
    "if device == 'cuda': torch.backends.cudnn.benchmark = True # additional speed up\n",
    "\n",
    "cnn = CNN()\n",
    "optimizer = optim.SGD(cnn.parameters(), lr=0.01, momentum=0.9, weight_decay=5e-4)\n",
    "# optimizer = optim.Adam(cnn.parameters())\n",
    "scheduler = torch.optim.lr_scheduler.CosineAnnealingLR(optimizer, T_max=200)\n",
    "cnn = cnn.to(device)\n",
    "\n",
    "epochs = 10\n",
    "for epoch in range(1, epochs + 1):\n",
    "    train(cnn, dl_train, optimizer, epoch, log_interval=100, device=device)\n",
    "    test(cnn, dl_test, device=device)    \n",
    "    scheduler.step()"
   ]
  },
  {
   "cell_type": "markdown",
   "metadata": {},
   "source": [
    "This should be way faster now. But the true advantage of the GPU is that we can use much bigger models now and still train them in a reasonable amount of time. PyTorch is again very handy. The torchvision library comes with varies state-of-the-art model architectures, some of which you have seen in the lecture."
   ]
  },
  {
   "cell_type": "code",
   "execution_count": 69,
   "metadata": {},
   "outputs": [],
   "source": [
    "from torchvision.models import resnet18"
   ]
  },
  {
   "cell_type": "code",
   "execution_count": 70,
   "metadata": {
    "scrolled": true
   },
   "outputs": [
    {
     "name": "stdout",
     "output_type": "stream",
     "text": [
      "ResNet(\n",
      "  (conv1): Conv2d(3, 64, kernel_size=(7, 7), stride=(2, 2), padding=(3, 3), bias=False)\n",
      "  (bn1): BatchNorm2d(64, eps=1e-05, momentum=0.1, affine=True, track_running_stats=True)\n",
      "  (relu): ReLU(inplace=True)\n",
      "  (maxpool): MaxPool2d(kernel_size=3, stride=2, padding=1, dilation=1, ceil_mode=False)\n",
      "  (layer1): Sequential(\n",
      "    (0): BasicBlock(\n",
      "      (conv1): Conv2d(64, 64, kernel_size=(3, 3), stride=(1, 1), padding=(1, 1), bias=False)\n",
      "      (bn1): BatchNorm2d(64, eps=1e-05, momentum=0.1, affine=True, track_running_stats=True)\n",
      "      (relu): ReLU(inplace=True)\n",
      "      (conv2): Conv2d(64, 64, kernel_size=(3, 3), stride=(1, 1), padding=(1, 1), bias=False)\n",
      "      (bn2): BatchNorm2d(64, eps=1e-05, momentum=0.1, affine=True, track_running_stats=True)\n",
      "    )\n",
      "    (1): BasicBlock(\n",
      "      (conv1): Conv2d(64, 64, kernel_size=(3, 3), stride=(1, 1), padding=(1, 1), bias=False)\n",
      "      (bn1): BatchNorm2d(64, eps=1e-05, momentum=0.1, affine=True, track_running_stats=True)\n",
      "      (relu): ReLU(inplace=True)\n",
      "      (conv2): Conv2d(64, 64, kernel_size=(3, 3), stride=(1, 1), padding=(1, 1), bias=False)\n",
      "      (bn2): BatchNorm2d(64, eps=1e-05, momentum=0.1, affine=True, track_running_stats=True)\n",
      "    )\n",
      "  )\n",
      "  (layer2): Sequential(\n",
      "    (0): BasicBlock(\n",
      "      (conv1): Conv2d(64, 128, kernel_size=(3, 3), stride=(2, 2), padding=(1, 1), bias=False)\n",
      "      (bn1): BatchNorm2d(128, eps=1e-05, momentum=0.1, affine=True, track_running_stats=True)\n",
      "      (relu): ReLU(inplace=True)\n",
      "      (conv2): Conv2d(128, 128, kernel_size=(3, 3), stride=(1, 1), padding=(1, 1), bias=False)\n",
      "      (bn2): BatchNorm2d(128, eps=1e-05, momentum=0.1, affine=True, track_running_stats=True)\n",
      "      (downsample): Sequential(\n",
      "        (0): Conv2d(64, 128, kernel_size=(1, 1), stride=(2, 2), bias=False)\n",
      "        (1): BatchNorm2d(128, eps=1e-05, momentum=0.1, affine=True, track_running_stats=True)\n",
      "      )\n",
      "    )\n",
      "    (1): BasicBlock(\n",
      "      (conv1): Conv2d(128, 128, kernel_size=(3, 3), stride=(1, 1), padding=(1, 1), bias=False)\n",
      "      (bn1): BatchNorm2d(128, eps=1e-05, momentum=0.1, affine=True, track_running_stats=True)\n",
      "      (relu): ReLU(inplace=True)\n",
      "      (conv2): Conv2d(128, 128, kernel_size=(3, 3), stride=(1, 1), padding=(1, 1), bias=False)\n",
      "      (bn2): BatchNorm2d(128, eps=1e-05, momentum=0.1, affine=True, track_running_stats=True)\n",
      "    )\n",
      "  )\n",
      "  (layer3): Sequential(\n",
      "    (0): BasicBlock(\n",
      "      (conv1): Conv2d(128, 256, kernel_size=(3, 3), stride=(2, 2), padding=(1, 1), bias=False)\n",
      "      (bn1): BatchNorm2d(256, eps=1e-05, momentum=0.1, affine=True, track_running_stats=True)\n",
      "      (relu): ReLU(inplace=True)\n",
      "      (conv2): Conv2d(256, 256, kernel_size=(3, 3), stride=(1, 1), padding=(1, 1), bias=False)\n",
      "      (bn2): BatchNorm2d(256, eps=1e-05, momentum=0.1, affine=True, track_running_stats=True)\n",
      "      (downsample): Sequential(\n",
      "        (0): Conv2d(128, 256, kernel_size=(1, 1), stride=(2, 2), bias=False)\n",
      "        (1): BatchNorm2d(256, eps=1e-05, momentum=0.1, affine=True, track_running_stats=True)\n",
      "      )\n",
      "    )\n",
      "    (1): BasicBlock(\n",
      "      (conv1): Conv2d(256, 256, kernel_size=(3, 3), stride=(1, 1), padding=(1, 1), bias=False)\n",
      "      (bn1): BatchNorm2d(256, eps=1e-05, momentum=0.1, affine=True, track_running_stats=True)\n",
      "      (relu): ReLU(inplace=True)\n",
      "      (conv2): Conv2d(256, 256, kernel_size=(3, 3), stride=(1, 1), padding=(1, 1), bias=False)\n",
      "      (bn2): BatchNorm2d(256, eps=1e-05, momentum=0.1, affine=True, track_running_stats=True)\n",
      "    )\n",
      "  )\n",
      "  (layer4): Sequential(\n",
      "    (0): BasicBlock(\n",
      "      (conv1): Conv2d(256, 512, kernel_size=(3, 3), stride=(2, 2), padding=(1, 1), bias=False)\n",
      "      (bn1): BatchNorm2d(512, eps=1e-05, momentum=0.1, affine=True, track_running_stats=True)\n",
      "      (relu): ReLU(inplace=True)\n",
      "      (conv2): Conv2d(512, 512, kernel_size=(3, 3), stride=(1, 1), padding=(1, 1), bias=False)\n",
      "      (bn2): BatchNorm2d(512, eps=1e-05, momentum=0.1, affine=True, track_running_stats=True)\n",
      "      (downsample): Sequential(\n",
      "        (0): Conv2d(256, 512, kernel_size=(1, 1), stride=(2, 2), bias=False)\n",
      "        (1): BatchNorm2d(512, eps=1e-05, momentum=0.1, affine=True, track_running_stats=True)\n",
      "      )\n",
      "    )\n",
      "    (1): BasicBlock(\n",
      "      (conv1): Conv2d(512, 512, kernel_size=(3, 3), stride=(1, 1), padding=(1, 1), bias=False)\n",
      "      (bn1): BatchNorm2d(512, eps=1e-05, momentum=0.1, affine=True, track_running_stats=True)\n",
      "      (relu): ReLU(inplace=True)\n",
      "      (conv2): Conv2d(512, 512, kernel_size=(3, 3), stride=(1, 1), padding=(1, 1), bias=False)\n",
      "      (bn2): BatchNorm2d(512, eps=1e-05, momentum=0.1, affine=True, track_running_stats=True)\n",
      "    )\n",
      "  )\n",
      "  (avgpool): AdaptiveAvgPool2d(output_size=(1, 1))\n",
      "  (fc): Linear(in_features=512, out_features=1000, bias=True)\n",
      ")\n"
     ]
    }
   ],
   "source": [
    "cnn = resnet18()\n",
    "print(cnn)"
   ]
  },
  {
   "cell_type": "markdown",
   "metadata": {},
   "source": [
    "Looks scary! But the only thing you need to change to make it work on CIFAR is the last layer.\n",
    "Currently the last layer is:\n",
    "```\n",
    "  (fc): Linear(in_features=512, out_features=1000, bias=True)\n",
    "```\n",
    "out_features is the number of classes. This models are developed for Imagenet, a dataset with 1000 classes. So this part of the model you need to adapt. Additionally, you need to add a log-softmax layer again, as we us negative log-likelihood as the training criterion. "
   ]
  },
  {
   "cell_type": "code",
   "execution_count": 74,
   "metadata": {},
   "outputs": [],
   "source": [
    "#########################################################################\n",
    "# TODO: Adapt the Resnet to work on CIFAR\n",
    "#########################################################################\n",
    "# cnn.fc = nn.Linear(512, 10)\n",
    "cnn.fc = nn.Sequential(nn.Linear(512, 10), nn.Softmax(dim=10))"
   ]
  },
  {
   "cell_type": "code",
   "execution_count": 75,
   "metadata": {},
   "outputs": [
    {
     "data": {
      "text/plain": [
       "torch.Size([16, 10])"
      ]
     },
     "execution_count": 75,
     "metadata": {},
     "output_type": "execute_result"
    }
   ],
   "source": [
    "# This should print 'torch.Size([16, 10])'\n",
    "cnn(torch.randn(16,3,32,32)).shape"
   ]
  },
  {
   "cell_type": "code",
   "execution_count": 76,
   "metadata": {},
   "outputs": [
    {
     "name": "stdout",
     "output_type": "stream",
     "text": [
      "Train Epoch: 1 [0/50000 (0%)]\tLoss: 102.546356\n",
      "Train Epoch: 1 [12800/50000 (26%)]\tLoss: 89.128990\n",
      "Train Epoch: 1 [25600/50000 (51%)]\tLoss: 97.021133\n",
      "Train Epoch: 1 [38400/50000 (77%)]\tLoss: 104.825615\n",
      "\n",
      "Train set: Average loss: 60.5674, Accuracy: 35969/50000 (71.9%)\n",
      "\n",
      "\n",
      "Test set: Average loss: 0.7554, Accuracy: 7353/10000 (73.530%)\n",
      "\n",
      "Train Epoch: 2 [0/50000 (0%)]\tLoss: 106.985680\n",
      "Train Epoch: 2 [12800/50000 (26%)]\tLoss: 109.159927\n",
      "Train Epoch: 2 [25600/50000 (51%)]\tLoss: 122.354393\n",
      "Train Epoch: 2 [38400/50000 (77%)]\tLoss: 99.224625\n",
      "\n",
      "Train set: Average loss: 63.5691, Accuracy: 36267/50000 (72.5%)\n",
      "\n",
      "\n",
      "Test set: Average loss: 0.7292, Accuracy: 7460/10000 (74.600%)\n",
      "\n",
      "Train Epoch: 3 [0/50000 (0%)]\tLoss: 86.326553\n",
      "Train Epoch: 3 [12800/50000 (26%)]\tLoss: 96.463554\n",
      "Train Epoch: 3 [25600/50000 (51%)]\tLoss: 89.147049\n",
      "Train Epoch: 3 [38400/50000 (77%)]\tLoss: 115.680870\n",
      "\n",
      "Train set: Average loss: 49.6763, Accuracy: 36598/50000 (73.2%)\n",
      "\n",
      "\n",
      "Test set: Average loss: 0.6924, Accuracy: 7589/10000 (75.890%)\n",
      "\n",
      "Train Epoch: 4 [0/50000 (0%)]\tLoss: 85.234596\n",
      "Train Epoch: 4 [12800/50000 (26%)]\tLoss: 87.454369\n",
      "Train Epoch: 4 [25600/50000 (51%)]\tLoss: 83.938759\n",
      "Train Epoch: 4 [38400/50000 (77%)]\tLoss: 94.637154\n",
      "\n",
      "Train set: Average loss: 60.2014, Accuracy: 36868/50000 (73.7%)\n",
      "\n",
      "\n",
      "Test set: Average loss: 0.6956, Accuracy: 7578/10000 (75.780%)\n",
      "\n",
      "Train Epoch: 5 [0/50000 (0%)]\tLoss: 112.936539\n",
      "Train Epoch: 5 [12800/50000 (26%)]\tLoss: 98.527191\n",
      "Train Epoch: 5 [25600/50000 (51%)]\tLoss: 93.867981\n",
      "Train Epoch: 5 [38400/50000 (77%)]\tLoss: 105.041039\n",
      "\n",
      "Train set: Average loss: 64.1537, Accuracy: 37086/50000 (74.2%)\n",
      "\n",
      "\n",
      "Test set: Average loss: 0.7024, Accuracy: 7609/10000 (76.090%)\n",
      "\n",
      "Train Epoch: 6 [0/50000 (0%)]\tLoss: 96.631027\n",
      "Train Epoch: 6 [12800/50000 (26%)]\tLoss: 102.560211\n",
      "Train Epoch: 6 [25600/50000 (51%)]\tLoss: 85.933838\n",
      "Train Epoch: 6 [38400/50000 (77%)]\tLoss: 76.254486\n",
      "\n",
      "Train set: Average loss: 67.2121, Accuracy: 37222/50000 (74.4%)\n",
      "\n",
      "\n",
      "Test set: Average loss: 0.6954, Accuracy: 7585/10000 (75.850%)\n",
      "\n",
      "Train Epoch: 7 [0/50000 (0%)]\tLoss: 106.301277\n",
      "Train Epoch: 7 [12800/50000 (26%)]\tLoss: 84.215889\n",
      "Train Epoch: 7 [25600/50000 (51%)]\tLoss: 96.908546\n",
      "Train Epoch: 7 [38400/50000 (77%)]\tLoss: 94.073814\n",
      "\n",
      "Train set: Average loss: 57.1521, Accuracy: 37285/50000 (74.6%)\n",
      "\n",
      "\n",
      "Test set: Average loss: 0.6878, Accuracy: 7608/10000 (76.080%)\n",
      "\n",
      "Train Epoch: 8 [0/50000 (0%)]\tLoss: 92.119614\n",
      "Train Epoch: 8 [12800/50000 (26%)]\tLoss: 79.841034\n",
      "Train Epoch: 8 [25600/50000 (51%)]\tLoss: 97.222610\n",
      "Train Epoch: 8 [38400/50000 (77%)]\tLoss: 77.818924\n",
      "\n",
      "Train set: Average loss: 70.2784, Accuracy: 37583/50000 (75.2%)\n",
      "\n",
      "\n",
      "Test set: Average loss: 0.6904, Accuracy: 7613/10000 (76.130%)\n",
      "\n",
      "Train Epoch: 9 [0/50000 (0%)]\tLoss: 97.199188\n",
      "Train Epoch: 9 [12800/50000 (26%)]\tLoss: 66.270615\n",
      "Train Epoch: 9 [25600/50000 (51%)]\tLoss: 141.785675\n",
      "Train Epoch: 9 [38400/50000 (77%)]\tLoss: 70.100800\n",
      "\n",
      "Train set: Average loss: 62.0513, Accuracy: 37631/50000 (75.3%)\n",
      "\n",
      "\n",
      "Test set: Average loss: 0.6760, Accuracy: 7660/10000 (76.600%)\n",
      "\n",
      "Train Epoch: 10 [0/50000 (0%)]\tLoss: 82.092705\n",
      "Train Epoch: 10 [12800/50000 (26%)]\tLoss: 79.494743\n",
      "Train Epoch: 10 [25600/50000 (51%)]\tLoss: 79.434845\n",
      "Train Epoch: 10 [38400/50000 (77%)]\tLoss: 88.326790\n",
      "\n",
      "Train set: Average loss: 40.9816, Accuracy: 37891/50000 (75.8%)\n",
      "\n",
      "\n",
      "Test set: Average loss: 0.6634, Accuracy: 7741/10000 (77.410%)\n",
      "\n",
      "Train Epoch: 11 [0/50000 (0%)]\tLoss: 79.648590\n",
      "Train Epoch: 11 [12800/50000 (26%)]\tLoss: 86.883186\n",
      "Train Epoch: 11 [25600/50000 (51%)]\tLoss: 79.485527\n",
      "Train Epoch: 11 [38400/50000 (77%)]\tLoss: 97.846901\n",
      "\n",
      "Train set: Average loss: 55.1160, Accuracy: 37932/50000 (75.9%)\n",
      "\n",
      "\n",
      "Test set: Average loss: 0.6906, Accuracy: 7622/10000 (76.220%)\n",
      "\n",
      "Train Epoch: 12 [0/50000 (0%)]\tLoss: 76.181320\n",
      "Train Epoch: 12 [12800/50000 (26%)]\tLoss: 87.876808\n",
      "Train Epoch: 12 [25600/50000 (51%)]\tLoss: 102.177635\n",
      "Train Epoch: 12 [38400/50000 (77%)]\tLoss: 100.462395\n",
      "\n",
      "Train set: Average loss: 55.8334, Accuracy: 38066/50000 (76.1%)\n",
      "\n",
      "\n",
      "Test set: Average loss: 0.6900, Accuracy: 7635/10000 (76.350%)\n",
      "\n",
      "Train Epoch: 13 [0/50000 (0%)]\tLoss: 92.410652\n",
      "Train Epoch: 13 [12800/50000 (26%)]\tLoss: 80.517365\n",
      "Train Epoch: 13 [25600/50000 (51%)]\tLoss: 102.201866\n",
      "Train Epoch: 13 [38400/50000 (77%)]\tLoss: 64.831177\n",
      "\n",
      "Train set: Average loss: 51.2909, Accuracy: 38152/50000 (76.3%)\n",
      "\n",
      "\n",
      "Test set: Average loss: 0.6510, Accuracy: 7764/10000 (77.640%)\n",
      "\n",
      "Train Epoch: 14 [0/50000 (0%)]\tLoss: 77.117828\n",
      "Train Epoch: 14 [12800/50000 (26%)]\tLoss: 71.435249\n",
      "Train Epoch: 14 [25600/50000 (51%)]\tLoss: 66.504959\n",
      "Train Epoch: 14 [38400/50000 (77%)]\tLoss: 85.263374\n",
      "\n",
      "Train set: Average loss: 55.8484, Accuracy: 38341/50000 (76.7%)\n",
      "\n",
      "\n",
      "Test set: Average loss: 0.6601, Accuracy: 7773/10000 (77.730%)\n",
      "\n",
      "Train Epoch: 15 [0/50000 (0%)]\tLoss: 83.013573\n",
      "Train Epoch: 15 [12800/50000 (26%)]\tLoss: 84.478416\n",
      "Train Epoch: 15 [25600/50000 (51%)]\tLoss: 98.082901\n",
      "Train Epoch: 15 [38400/50000 (77%)]\tLoss: 71.169357\n",
      "\n",
      "Train set: Average loss: 56.8862, Accuracy: 38455/50000 (76.9%)\n",
      "\n",
      "\n",
      "Test set: Average loss: 0.6769, Accuracy: 7715/10000 (77.150%)\n",
      "\n",
      "Train Epoch: 16 [0/50000 (0%)]\tLoss: 101.500725\n",
      "Train Epoch: 16 [12800/50000 (26%)]\tLoss: 82.498795\n",
      "Train Epoch: 16 [25600/50000 (51%)]\tLoss: 76.143745\n",
      "Train Epoch: 16 [38400/50000 (77%)]\tLoss: 78.371521\n",
      "\n",
      "Train set: Average loss: 60.4260, Accuracy: 38611/50000 (77.2%)\n",
      "\n",
      "\n",
      "Test set: Average loss: 0.6499, Accuracy: 7820/10000 (78.200%)\n",
      "\n",
      "Train Epoch: 17 [0/50000 (0%)]\tLoss: 75.759598\n",
      "Train Epoch: 17 [12800/50000 (26%)]\tLoss: 73.037376\n",
      "Train Epoch: 17 [25600/50000 (51%)]\tLoss: 78.348564\n",
      "Train Epoch: 17 [38400/50000 (77%)]\tLoss: 77.635757\n",
      "\n",
      "Train set: Average loss: 55.5590, Accuracy: 38566/50000 (77.1%)\n",
      "\n",
      "\n",
      "Test set: Average loss: 0.6543, Accuracy: 7745/10000 (77.450%)\n",
      "\n",
      "Train Epoch: 18 [0/50000 (0%)]\tLoss: 79.828346\n",
      "Train Epoch: 18 [12800/50000 (26%)]\tLoss: 85.714149\n",
      "Train Epoch: 18 [25600/50000 (51%)]\tLoss: 59.228035\n",
      "Train Epoch: 18 [38400/50000 (77%)]\tLoss: 60.069103\n",
      "\n",
      "Train set: Average loss: 63.1966, Accuracy: 38747/50000 (77.5%)\n",
      "\n",
      "\n",
      "Test set: Average loss: 0.6421, Accuracy: 7785/10000 (77.850%)\n",
      "\n",
      "Train Epoch: 19 [0/50000 (0%)]\tLoss: 88.235954\n",
      "Train Epoch: 19 [12800/50000 (26%)]\tLoss: 81.034912\n",
      "Train Epoch: 19 [25600/50000 (51%)]\tLoss: 82.787514\n",
      "Train Epoch: 19 [38400/50000 (77%)]\tLoss: 89.944633\n",
      "\n",
      "Train set: Average loss: 58.1338, Accuracy: 38848/50000 (77.7%)\n",
      "\n",
      "\n",
      "Test set: Average loss: 0.6360, Accuracy: 7830/10000 (78.300%)\n",
      "\n",
      "Train Epoch: 20 [0/50000 (0%)]\tLoss: 86.452637\n",
      "Train Epoch: 20 [12800/50000 (26%)]\tLoss: 85.554443\n",
      "Train Epoch: 20 [25600/50000 (51%)]\tLoss: 73.225372\n",
      "Train Epoch: 20 [38400/50000 (77%)]\tLoss: 83.176552\n",
      "\n",
      "Train set: Average loss: 51.8443, Accuracy: 38873/50000 (77.7%)\n",
      "\n",
      "\n",
      "Test set: Average loss: 0.6363, Accuracy: 7799/10000 (77.990%)\n",
      "\n",
      "Train Epoch: 21 [0/50000 (0%)]\tLoss: 94.561935\n",
      "Train Epoch: 21 [12800/50000 (26%)]\tLoss: 93.644318\n",
      "Train Epoch: 21 [25600/50000 (51%)]\tLoss: 69.440102\n",
      "Train Epoch: 21 [38400/50000 (77%)]\tLoss: 69.412987\n",
      "\n",
      "Train set: Average loss: 37.7951, Accuracy: 38931/50000 (77.9%)\n",
      "\n",
      "\n",
      "Test set: Average loss: 0.6224, Accuracy: 7873/10000 (78.730%)\n",
      "\n",
      "Train Epoch: 22 [0/50000 (0%)]\tLoss: 90.206345\n",
      "Train Epoch: 22 [12800/50000 (26%)]\tLoss: 76.670273\n",
      "Train Epoch: 22 [25600/50000 (51%)]\tLoss: 98.477730\n",
      "Train Epoch: 22 [38400/50000 (77%)]\tLoss: 94.840683\n",
      "\n",
      "Train set: Average loss: 37.7025, Accuracy: 38950/50000 (77.9%)\n",
      "\n",
      "\n",
      "Test set: Average loss: 0.6445, Accuracy: 7820/10000 (78.200%)\n",
      "\n",
      "Train Epoch: 23 [0/50000 (0%)]\tLoss: 85.964989\n",
      "Train Epoch: 23 [12800/50000 (26%)]\tLoss: 92.874641\n",
      "Train Epoch: 23 [25600/50000 (51%)]\tLoss: 79.003258\n",
      "Train Epoch: 23 [38400/50000 (77%)]\tLoss: 83.258789\n",
      "\n",
      "Train set: Average loss: 50.5781, Accuracy: 39212/50000 (78.4%)\n",
      "\n",
      "\n",
      "Test set: Average loss: 0.6317, Accuracy: 7829/10000 (78.290%)\n",
      "\n",
      "Train Epoch: 24 [0/50000 (0%)]\tLoss: 80.779480\n",
      "Train Epoch: 24 [12800/50000 (26%)]\tLoss: 79.369125\n",
      "Train Epoch: 24 [25600/50000 (51%)]\tLoss: 77.545441\n",
      "Train Epoch: 24 [38400/50000 (77%)]\tLoss: 83.345886\n",
      "\n",
      "Train set: Average loss: 42.4768, Accuracy: 39075/50000 (78.2%)\n",
      "\n",
      "\n",
      "Test set: Average loss: 0.6403, Accuracy: 7831/10000 (78.310%)\n",
      "\n",
      "Train Epoch: 25 [0/50000 (0%)]\tLoss: 70.449234\n",
      "Train Epoch: 25 [12800/50000 (26%)]\tLoss: 78.509674\n",
      "Train Epoch: 25 [25600/50000 (51%)]\tLoss: 76.163628\n",
      "Train Epoch: 25 [38400/50000 (77%)]\tLoss: 84.384987\n"
     ]
    },
    {
     "name": "stdout",
     "output_type": "stream",
     "text": [
      "\n",
      "Train set: Average loss: 64.3023, Accuracy: 39316/50000 (78.6%)\n",
      "\n",
      "\n",
      "Test set: Average loss: 0.6217, Accuracy: 7899/10000 (78.990%)\n",
      "\n",
      "Train Epoch: 26 [0/50000 (0%)]\tLoss: 65.018356\n",
      "Train Epoch: 26 [12800/50000 (26%)]\tLoss: 70.300537\n",
      "Train Epoch: 26 [25600/50000 (51%)]\tLoss: 90.769356\n",
      "Train Epoch: 26 [38400/50000 (77%)]\tLoss: 65.465698\n",
      "\n",
      "Train set: Average loss: 56.3617, Accuracy: 39238/50000 (78.5%)\n",
      "\n",
      "\n",
      "Test set: Average loss: 0.6205, Accuracy: 7898/10000 (78.980%)\n",
      "\n",
      "Train Epoch: 27 [0/50000 (0%)]\tLoss: 71.344772\n",
      "Train Epoch: 27 [12800/50000 (26%)]\tLoss: 70.026146\n",
      "Train Epoch: 27 [25600/50000 (51%)]\tLoss: 78.944115\n",
      "Train Epoch: 27 [38400/50000 (77%)]\tLoss: 92.850426\n",
      "\n",
      "Train set: Average loss: 56.6789, Accuracy: 39328/50000 (78.7%)\n",
      "\n",
      "\n",
      "Test set: Average loss: 0.6187, Accuracy: 7905/10000 (79.050%)\n",
      "\n",
      "Train Epoch: 28 [0/50000 (0%)]\tLoss: 74.716835\n",
      "Train Epoch: 28 [12800/50000 (26%)]\tLoss: 75.416191\n",
      "Train Epoch: 28 [25600/50000 (51%)]\tLoss: 77.745155\n",
      "Train Epoch: 28 [38400/50000 (77%)]\tLoss: 77.905304\n",
      "\n",
      "Train set: Average loss: 55.4014, Accuracy: 39430/50000 (78.9%)\n",
      "\n",
      "\n",
      "Test set: Average loss: 0.6123, Accuracy: 7922/10000 (79.220%)\n",
      "\n",
      "Train Epoch: 29 [0/50000 (0%)]\tLoss: 60.302460\n",
      "Train Epoch: 29 [12800/50000 (26%)]\tLoss: 89.661919\n",
      "Train Epoch: 29 [25600/50000 (51%)]\tLoss: 97.498886\n",
      "Train Epoch: 29 [38400/50000 (77%)]\tLoss: 68.693222\n",
      "\n",
      "Train set: Average loss: 45.4667, Accuracy: 39456/50000 (78.9%)\n",
      "\n",
      "\n",
      "Test set: Average loss: 0.6144, Accuracy: 7933/10000 (79.330%)\n",
      "\n",
      "Train Epoch: 30 [0/50000 (0%)]\tLoss: 71.936623\n",
      "Train Epoch: 30 [12800/50000 (26%)]\tLoss: 70.158691\n",
      "Train Epoch: 30 [25600/50000 (51%)]\tLoss: 82.236382\n",
      "Train Epoch: 30 [38400/50000 (77%)]\tLoss: 67.607437\n",
      "\n",
      "Train set: Average loss: 37.9720, Accuracy: 39671/50000 (79.3%)\n",
      "\n",
      "\n",
      "Test set: Average loss: 0.6211, Accuracy: 7941/10000 (79.410%)\n",
      "\n",
      "Train Epoch: 31 [0/50000 (0%)]\tLoss: 70.141335\n",
      "Train Epoch: 31 [12800/50000 (26%)]\tLoss: 83.899223\n",
      "Train Epoch: 31 [25600/50000 (51%)]\tLoss: 74.596436\n",
      "Train Epoch: 31 [38400/50000 (77%)]\tLoss: 82.029114\n",
      "\n",
      "Train set: Average loss: 43.4941, Accuracy: 39731/50000 (79.5%)\n",
      "\n",
      "\n",
      "Test set: Average loss: 0.6110, Accuracy: 7964/10000 (79.640%)\n",
      "\n",
      "Train Epoch: 32 [0/50000 (0%)]\tLoss: 62.261677\n",
      "Train Epoch: 32 [12800/50000 (26%)]\tLoss: 51.952492\n",
      "Train Epoch: 32 [25600/50000 (51%)]\tLoss: 64.513268\n",
      "Train Epoch: 32 [38400/50000 (77%)]\tLoss: 89.197510\n",
      "\n",
      "Train set: Average loss: 46.4136, Accuracy: 39694/50000 (79.4%)\n",
      "\n",
      "\n",
      "Test set: Average loss: 0.6149, Accuracy: 7928/10000 (79.280%)\n",
      "\n",
      "Train Epoch: 33 [0/50000 (0%)]\tLoss: 66.554535\n",
      "Train Epoch: 33 [12800/50000 (26%)]\tLoss: 79.120171\n",
      "Train Epoch: 33 [25600/50000 (51%)]\tLoss: 66.158310\n",
      "Train Epoch: 33 [38400/50000 (77%)]\tLoss: 82.729500\n",
      "\n",
      "Train set: Average loss: 60.3017, Accuracy: 39957/50000 (79.9%)\n",
      "\n",
      "\n",
      "Test set: Average loss: 0.6066, Accuracy: 7965/10000 (79.650%)\n",
      "\n",
      "Train Epoch: 34 [0/50000 (0%)]\tLoss: 78.188622\n",
      "Train Epoch: 34 [12800/50000 (26%)]\tLoss: 91.030258\n",
      "Train Epoch: 34 [25600/50000 (51%)]\tLoss: 84.165070\n",
      "Train Epoch: 34 [38400/50000 (77%)]\tLoss: 92.360962\n",
      "\n",
      "Train set: Average loss: 61.4532, Accuracy: 39853/50000 (79.7%)\n",
      "\n",
      "\n",
      "Test set: Average loss: 0.6199, Accuracy: 7901/10000 (79.010%)\n",
      "\n",
      "Train Epoch: 35 [0/50000 (0%)]\tLoss: 87.593857\n",
      "Train Epoch: 35 [12800/50000 (26%)]\tLoss: 72.965027\n",
      "Train Epoch: 35 [25600/50000 (51%)]\tLoss: 57.994377\n",
      "Train Epoch: 35 [38400/50000 (77%)]\tLoss: 64.650696\n",
      "\n",
      "Train set: Average loss: 38.5925, Accuracy: 39848/50000 (79.7%)\n",
      "\n",
      "\n",
      "Test set: Average loss: 0.6124, Accuracy: 7923/10000 (79.230%)\n",
      "\n",
      "Train Epoch: 36 [0/50000 (0%)]\tLoss: 74.538811\n",
      "Train Epoch: 36 [12800/50000 (26%)]\tLoss: 80.314667\n",
      "Train Epoch: 36 [25600/50000 (51%)]\tLoss: 95.699501\n",
      "Train Epoch: 36 [38400/50000 (77%)]\tLoss: 68.514214\n",
      "\n",
      "Train set: Average loss: 42.7752, Accuracy: 40014/50000 (80.0%)\n",
      "\n",
      "\n",
      "Test set: Average loss: 0.6057, Accuracy: 7984/10000 (79.840%)\n",
      "\n",
      "Train Epoch: 37 [0/50000 (0%)]\tLoss: 73.080528\n",
      "Train Epoch: 37 [12800/50000 (26%)]\tLoss: 58.106159\n",
      "Train Epoch: 37 [25600/50000 (51%)]\tLoss: 77.017570\n",
      "Train Epoch: 37 [38400/50000 (77%)]\tLoss: 90.921661\n",
      "\n",
      "Train set: Average loss: 42.8298, Accuracy: 40063/50000 (80.1%)\n",
      "\n",
      "\n",
      "Test set: Average loss: 0.6153, Accuracy: 7962/10000 (79.620%)\n",
      "\n",
      "Train Epoch: 38 [0/50000 (0%)]\tLoss: 77.897293\n",
      "Train Epoch: 38 [12800/50000 (26%)]\tLoss: 61.979172\n",
      "Train Epoch: 38 [25600/50000 (51%)]\tLoss: 90.087288\n",
      "Train Epoch: 38 [38400/50000 (77%)]\tLoss: 62.757275\n",
      "\n",
      "Train set: Average loss: 44.3257, Accuracy: 40139/50000 (80.3%)\n",
      "\n",
      "\n",
      "Test set: Average loss: 0.6043, Accuracy: 7989/10000 (79.890%)\n",
      "\n",
      "Train Epoch: 39 [0/50000 (0%)]\tLoss: 70.595360\n",
      "Train Epoch: 39 [12800/50000 (26%)]\tLoss: 59.794781\n",
      "Train Epoch: 39 [25600/50000 (51%)]\tLoss: 90.633812\n",
      "Train Epoch: 39 [38400/50000 (77%)]\tLoss: 62.195919\n",
      "\n",
      "Train set: Average loss: 57.8501, Accuracy: 40134/50000 (80.3%)\n",
      "\n",
      "\n",
      "Test set: Average loss: 0.6241, Accuracy: 7902/10000 (79.020%)\n",
      "\n",
      "Train Epoch: 40 [0/50000 (0%)]\tLoss: 71.673546\n",
      "Train Epoch: 40 [12800/50000 (26%)]\tLoss: 71.152290\n",
      "Train Epoch: 40 [25600/50000 (51%)]\tLoss: 79.437927\n",
      "Train Epoch: 40 [38400/50000 (77%)]\tLoss: 56.906639\n",
      "\n",
      "Train set: Average loss: 35.4843, Accuracy: 40082/50000 (80.2%)\n",
      "\n",
      "\n",
      "Test set: Average loss: 0.6061, Accuracy: 7990/10000 (79.900%)\n",
      "\n",
      "Train Epoch: 41 [0/50000 (0%)]\tLoss: 73.664330\n",
      "Train Epoch: 41 [12800/50000 (26%)]\tLoss: 65.152588\n",
      "Train Epoch: 41 [25600/50000 (51%)]\tLoss: 72.826538\n",
      "Train Epoch: 41 [38400/50000 (77%)]\tLoss: 78.086929\n",
      "\n",
      "Train set: Average loss: 48.7939, Accuracy: 40209/50000 (80.4%)\n",
      "\n",
      "\n",
      "Test set: Average loss: 0.6032, Accuracy: 7961/10000 (79.610%)\n",
      "\n",
      "Train Epoch: 42 [0/50000 (0%)]\tLoss: 86.563881\n",
      "Train Epoch: 42 [12800/50000 (26%)]\tLoss: 79.593513\n",
      "Train Epoch: 42 [25600/50000 (51%)]\tLoss: 64.771240\n",
      "Train Epoch: 42 [38400/50000 (77%)]\tLoss: 68.028381\n",
      "\n",
      "Train set: Average loss: 31.7850, Accuracy: 40338/50000 (80.7%)\n",
      "\n",
      "\n",
      "Test set: Average loss: 0.6121, Accuracy: 7955/10000 (79.550%)\n",
      "\n",
      "Train Epoch: 43 [0/50000 (0%)]\tLoss: 62.800835\n",
      "Train Epoch: 43 [12800/50000 (26%)]\tLoss: 69.581711\n",
      "Train Epoch: 43 [25600/50000 (51%)]\tLoss: 61.666126\n",
      "Train Epoch: 43 [38400/50000 (77%)]\tLoss: 76.971405\n",
      "\n",
      "Train set: Average loss: 40.6301, Accuracy: 40498/50000 (81.0%)\n",
      "\n",
      "\n",
      "Test set: Average loss: 0.6010, Accuracy: 7975/10000 (79.750%)\n",
      "\n",
      "Train Epoch: 44 [0/50000 (0%)]\tLoss: 79.019707\n",
      "Train Epoch: 44 [12800/50000 (26%)]\tLoss: 87.230759\n",
      "Train Epoch: 44 [25600/50000 (51%)]\tLoss: 71.890335\n",
      "Train Epoch: 44 [38400/50000 (77%)]\tLoss: 54.924923\n",
      "\n",
      "Train set: Average loss: 41.3959, Accuracy: 40456/50000 (80.9%)\n",
      "\n",
      "\n",
      "Test set: Average loss: 0.5978, Accuracy: 7995/10000 (79.950%)\n",
      "\n",
      "Train Epoch: 45 [0/50000 (0%)]\tLoss: 70.082268\n",
      "Train Epoch: 45 [12800/50000 (26%)]\tLoss: 68.868027\n",
      "Train Epoch: 45 [25600/50000 (51%)]\tLoss: 79.029533\n",
      "Train Epoch: 45 [38400/50000 (77%)]\tLoss: 76.609474\n",
      "\n",
      "Train set: Average loss: 41.1137, Accuracy: 40313/50000 (80.6%)\n",
      "\n",
      "\n",
      "Test set: Average loss: 0.5897, Accuracy: 8048/10000 (80.480%)\n",
      "\n",
      "Train Epoch: 46 [0/50000 (0%)]\tLoss: 63.842506\n",
      "Train Epoch: 46 [12800/50000 (26%)]\tLoss: 77.045403\n",
      "Train Epoch: 46 [25600/50000 (51%)]\tLoss: 57.699055\n",
      "Train Epoch: 46 [38400/50000 (77%)]\tLoss: 70.676010\n",
      "\n",
      "Train set: Average loss: 58.2201, Accuracy: 40376/50000 (80.8%)\n",
      "\n",
      "\n",
      "Test set: Average loss: 0.5937, Accuracy: 7962/10000 (79.620%)\n",
      "\n",
      "Train Epoch: 47 [0/50000 (0%)]\tLoss: 73.940598\n",
      "Train Epoch: 47 [12800/50000 (26%)]\tLoss: 83.198906\n",
      "Train Epoch: 47 [25600/50000 (51%)]\tLoss: 82.713730\n",
      "Train Epoch: 47 [38400/50000 (77%)]\tLoss: 68.029076\n",
      "\n",
      "Train set: Average loss: 42.7599, Accuracy: 40580/50000 (81.2%)\n",
      "\n",
      "\n",
      "Test set: Average loss: 0.5918, Accuracy: 8009/10000 (80.090%)\n",
      "\n",
      "Train Epoch: 48 [0/50000 (0%)]\tLoss: 92.264473\n",
      "Train Epoch: 48 [12800/50000 (26%)]\tLoss: 70.314903\n",
      "Train Epoch: 48 [25600/50000 (51%)]\tLoss: 75.913719\n",
      "Train Epoch: 48 [38400/50000 (77%)]\tLoss: 93.998863\n",
      "\n",
      "Train set: Average loss: 29.9871, Accuracy: 40457/50000 (80.9%)\n",
      "\n",
      "\n",
      "Test set: Average loss: 0.6289, Accuracy: 7938/10000 (79.380%)\n",
      "\n",
      "Train Epoch: 49 [0/50000 (0%)]\tLoss: 76.457687\n",
      "Train Epoch: 49 [12800/50000 (26%)]\tLoss: 52.322422\n",
      "Train Epoch: 49 [25600/50000 (51%)]\tLoss: 76.919815\n",
      "Train Epoch: 49 [38400/50000 (77%)]\tLoss: 82.975151\n",
      "\n",
      "Train set: Average loss: 25.6929, Accuracy: 40532/50000 (81.1%)\n",
      "\n",
      "\n",
      "Test set: Average loss: 0.5893, Accuracy: 8052/10000 (80.520%)\n",
      "\n",
      "Train Epoch: 50 [0/50000 (0%)]\tLoss: 61.458874\n"
     ]
    },
    {
     "name": "stdout",
     "output_type": "stream",
     "text": [
      "Train Epoch: 50 [12800/50000 (26%)]\tLoss: 95.370712\n",
      "Train Epoch: 50 [25600/50000 (51%)]\tLoss: 83.799614\n",
      "Train Epoch: 50 [38400/50000 (77%)]\tLoss: 67.916573\n",
      "\n",
      "Train set: Average loss: 52.9478, Accuracy: 40625/50000 (81.2%)\n",
      "\n",
      "\n",
      "Test set: Average loss: 0.5900, Accuracy: 8003/10000 (80.030%)\n",
      "\n"
     ]
    }
   ],
   "source": [
    "device = 'cuda'\n",
    "if device == 'cuda': torch.backends.cudnn.benchmark = True # this gives us additional speed up\n",
    "\n",
    "# optimizer = optim.SGD(cnn.parameters(), lr=0.1, momentum=0.9, weight_decay=5e-4)\n",
    "optimizer = optim.Adam(cnn.parameters())\n",
    "scheduler = torch.optim.lr_scheduler.CosineAnnealingLR(optimizer, T_max=200)\n",
    "cnn = cnn.to(device)\n",
    "\n",
    "epochs = 50\n",
    "for epoch in range(1, epochs + 1):\n",
    "    train(cnn, dl_train, optimizer, epoch, log_interval=100, device=device)\n",
    "    test(cnn, dl_test, device=device)    \n",
    "    scheduler.step()"
   ]
  },
  {
   "cell_type": "markdown",
   "metadata": {},
   "source": [
    "This should get us well above 75%, the best we got was ~ 80%.\n",
    "\n",
    "Now, use different torchvision architectures, different optimizers (Adam is always a good choice), data augmentation techniques, and hyperparameter search to achieve a test accuracy of >90 %"
   ]
  },
  {
   "cell_type": "code",
   "execution_count": null,
   "metadata": {},
   "outputs": [],
   "source": []
  },
  {
   "cell_type": "code",
   "execution_count": null,
   "metadata": {},
   "outputs": [],
   "source": []
  }
 ],
 "metadata": {
  "kernelspec": {
   "display_name": "Python 3 (ipykernel)",
   "language": "python",
   "name": "python3"
  },
  "language_info": {
   "codemirror_mode": {
    "name": "ipython",
    "version": 3
   },
   "file_extension": ".py",
   "mimetype": "text/x-python",
   "name": "python",
   "nbconvert_exporter": "python",
   "pygments_lexer": "ipython3",
   "version": "3.9.7"
  },
  "varInspector": {
   "cols": {
    "lenName": 16,
    "lenType": 16,
    "lenVar": 40
   },
   "kernels_config": {
    "python": {
     "delete_cmd_postfix": "",
     "delete_cmd_prefix": "del ",
     "library": "var_list.py",
     "varRefreshCmd": "print(var_dic_list())"
    },
    "r": {
     "delete_cmd_postfix": ") ",
     "delete_cmd_prefix": "rm(",
     "library": "var_list.r",
     "varRefreshCmd": "cat(var_dic_list()) "
    }
   },
   "position": {
    "height": "408.844px",
    "left": "1398px",
    "right": "20px",
    "top": "140px",
    "width": "194px"
   },
   "types_to_exclude": [
    "module",
    "function",
    "builtin_function_or_method",
    "instance",
    "_Feature"
   ],
   "window_display": true
  },
  "vscode": {
   "interpreter": {
    "hash": "d268b61a0efacafa8645774cb6d0204c9f01d7563ef03f7672146d044e8f345c"
   }
  }
 },
 "nbformat": 4,
 "nbformat_minor": 4
}