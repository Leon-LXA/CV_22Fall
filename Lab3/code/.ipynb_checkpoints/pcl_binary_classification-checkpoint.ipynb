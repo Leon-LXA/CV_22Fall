{
 "cells": [
  {
   "cell_type": "markdown",
   "metadata": {},
   "source": [
    "# Point Cloud Binary Classification with PyTorch"
   ]
  },
  {
   "cell_type": "markdown",
   "metadata": {},
   "source": [
    "Make sure you are using the `dl4cv` conda environment."
   ]
  },
  {
   "cell_type": "markdown",
   "metadata": {},
   "source": [
    "## Dataset loading and visualization"
   ]
  },
  {
   "cell_type": "markdown",
   "metadata": {},
   "source": [
    "The input X contain 100 2D points, and y are their corresponding labels (0 or 1). The goal is to train a model that can classify every point to its correct label.\n"
   ]
  },
  {
   "cell_type": "code",
   "execution_count": 1,
   "metadata": {},
   "outputs": [
    {
     "data": {
      "image/png": "[encoded data removed]",
      "text/plain": [
       "<Figure size 432x288 with 1 Axes>"
      ]
     },
     "metadata": {
      "needs_background": "light"
     },
     "output_type": "display_data"
    },
    {
     "data": {
      "text/plain": [
       "<Figure size 432x288 with 0 Axes>"
      ]
     },
     "metadata": {},
     "output_type": "display_data"
    }
   ],
   "source": [
    "%matplotlib inline\n",
    "import matplotlib.pyplot as plt\n",
    "import numpy as np\n",
    "import torch\n",
    "import torch.nn as nn\n",
    "import torch.nn.functional as F\n",
    "import torch.optim as optim\n",
    "from torch.utils.data import Dataset\n",
    "from torch.utils.data import DataLoader\n",
    "from torch.optim import Adam\n",
    "\n",
    "dataset = np.load('data/2d_pcl_dataset.npz')\n",
    "X, y = dataset['X'], dataset['y']\n",
    "\n",
    "X0 = X[y==0] # 50 2D points have label 0\n",
    "X1 = X[y==1] # 50 2D points have label 1\n",
    "\n",
    "def plot(X0, X1, fit_param=None):\n",
    "    plt.scatter(X0[:,0], X0[:,1], color='red', label=0)\n",
    "    plt.scatter(X1[:,0], X1[:,1], color='blue', label=1)\n",
    "    \n",
    "    plt.xlim([-0.55, 0.55])\n",
    "    plt.ylim([-0.35, 0.25])\n",
    "    plt.legend()\n",
    "    plt.show()\n",
    "    plt.clf()\n",
    "\n",
    "plot(X0, X1)"
   ]
  },
  {
   "cell_type": "markdown",
   "metadata": {},
   "source": [
    "## Logistic Regression for the point cloud classification task\n"
   ]
  },
  {
   "cell_type": "markdown",
   "metadata": {},
   "source": [
    "Starting by filling in the `Simple2DDataset` class below. First, in the class constructore `__init__`, you will need to read the right `2d_pcl_dataset.npz` from disk.\n",
    "\n",
    "Second, in the `__getitem__`, you will need to take a single data point and its label based on its index `idx`"
   ]
  },
  {
   "cell_type": "code",
   "execution_count": 2,
   "metadata": {},
   "outputs": [],
   "source": [
    "class Simple2DDataset(Dataset):\n",
    "    def __init__(self):\n",
    "        super().__init__()\n",
    "        #########################################################################\n",
    "        # TODO: read data from disk using np.load.\n",
    "        # Data is located in the folder \"data\".\n",
    "        # Save samples and labels to class members self.X and self.y respectively.\n",
    "        # samples should be an Nx2 numpy array. Labels should be Nx1.\n",
    "        #########################################################################\n",
    "        self.X = 0\n",
    "        self.y = 0\n",
    "        A = np.load('./data/2d_pcl_dataset.npz')\n",
    "#         print(A)\n",
    "        self.X = A['X']\n",
    "        self.Y = A['y']\n",
    "     \n",
    "    def __len__(self):\n",
    "        # Returns the number of samples in the dataset.\n",
    "        return self.X.shape[0]\n",
    "#         return 1\n",
    "    \n",
    "    def __getitem__(self, idx):\n",
    "        #########################################################################\n",
    "        # TODO: return the sample and label with index idx\n",
    "        #########################################################################\n",
    "        point = self.X[idx]\n",
    "        label = self.Y[idx]\n",
    "        \n",
    "        # Convert to tensor.\n",
    "        return torch.from_numpy(point).float(), \\\n",
    "               torch.from_numpy(label[np.newaxis]).float()\n"
   ]
  },
  {
   "cell_type": "markdown",
   "metadata": {},
   "source": [
    "With the complete `Simple2DDataset`, we can create a PyTorch dataloader\n",
    "\n",
    "**NOTE**: if you encounter some unexpected errors in data loading, try setting `NUM_WORKERS = 0`"
   ]
  },
  {
   "cell_type": "code",
   "execution_count": 3,
   "metadata": {},
   "outputs": [],
   "source": [
    "BATCH_SIZE = 8\n",
    "NUM_WORKERS = 0\n",
    "\n",
    "# create the dataloader\n",
    "dataset = Simple2DDataset()\n",
    "train_dataloader = DataLoader(\n",
    "    dataset,\n",
    "    batch_size=BATCH_SIZE,\n",
    "    num_workers=NUM_WORKERS,\n",
    "    shuffle=True\n",
    ")"
   ]
  },
  {
   "cell_type": "markdown",
   "metadata": {},
   "source": [
    "Now, define your first network by filling in the `LinearClassifier` class below.\n",
    "\n",
    "Add a single linear layer `nn.Linear` inside the `nn.Sequential` call. The input is 2D, and the output should be a single value, corresponding to the probability of a given 2D point being part of cluster 0."
   ]
  },
  {
   "cell_type": "code",
   "execution_count": 4,
   "metadata": {},
   "outputs": [],
   "source": [
    "class LinearClassifier(nn.Module):\n",
    "    def __init__(self):\n",
    "        super().__init__()\n",
    "\n",
    "        self.codename = 'linear'\n",
    "\n",
    "        #########################################################################\n",
    "        # TODO: add a single linear layer with nn.Linear, inside the `nn.Sequential` call.\n",
    "        # Input is 2D.\n",
    "        # Output is a single value.\n",
    "        #########################################################################\n",
    "        self.model = nn.Sequential(nn.Linear(2,1))\n",
    "        \n",
    "    def forward(self, batch):\n",
    "        # Process batch using the defined model.\n",
    "        x = self.model(batch)\n",
    "        # Final sigmoid activation to obtain a probability between 0 and 1.\n",
    "        return torch.sigmoid(x)"
   ]
  },
  {
   "cell_type": "markdown",
   "metadata": {},
   "source": [
    "Now, you are asked to implement the training loop below"
   ]
  },
  {
   "cell_type": "code",
   "execution_count": 5,
   "metadata": {},
   "outputs": [],
   "source": [
    "def train(net, optimizer, dataloader, epoch):\n",
    "    net.train()\n",
    "    loss_sum = 0\n",
    "    for batch_idx, (point, label) in enumerate(dataloader):\n",
    "        # First we need to zero the gradient, otherwise PyTorch would accumulate them\n",
    "        optimizer.zero_grad()\n",
    "\n",
    "        #########################################################################\n",
    "        #TODO: \n",
    "        # 1. forward pass of the network to obtain the predictions given the batch\n",
    "        # 2. compute the loss using F.binary_cross_entropy\n",
    "        # 3. backward pass on the loss using loss.backward(), and one step \n",
    "        # of gradient descent (optimization) using optimizer.step()\n",
    "        #########################################################################\n",
    "        output = net.forward(point)\n",
    "        loss = F.binary_cross_entropy(output,label)\n",
    "        loss.backward()\n",
    "        optimizer.step()\n",
    "\n",
    "        loss_sum += loss\n",
    "    return loss_sum\n",
    "        "
   ]
  },
  {
   "cell_type": "markdown",
   "metadata": {},
   "source": [
    "You can now run below to train the linear model."
   ]
  },
  {
   "cell_type": "code",
   "execution_count": 6,
   "metadata": {
    "scrolled": true,
    "tags": []
   },
   "outputs": [
    {
     "name": "stdout",
     "output_type": "stream",
     "text": [
      "[Epoch 01] Loss: 9.2100\n",
      "[Epoch 02] Loss: 7.2227\n",
      "[Epoch 03] Loss: 6.2286\n",
      "[Epoch 04] Loss: 5.5752\n",
      "[Epoch 05] Loss: 5.1841\n",
      "[Epoch 06] Loss: 4.7767\n",
      "[Epoch 07] Loss: 4.5228\n",
      "[Epoch 08] Loss: 4.5672\n",
      "[Epoch 09] Loss: 4.3345\n",
      "[Epoch 10] Loss: 4.1378\n",
      "[Epoch 11] Loss: 4.1222\n",
      "[Epoch 12] Loss: 4.3832\n",
      "[Epoch 13] Loss: 3.9660\n",
      "[Epoch 14] Loss: 3.8618\n",
      "[Epoch 15] Loss: 4.0633\n",
      "[Epoch 16] Loss: 3.8545\n",
      "[Epoch 17] Loss: 3.9056\n",
      "[Epoch 18] Loss: 3.8857\n",
      "[Epoch 19] Loss: 3.9098\n",
      "[Epoch 20] Loss: 3.6988\n",
      "[Epoch 21] Loss: 3.6737\n",
      "[Epoch 22] Loss: 3.9179\n",
      "[Epoch 23] Loss: 4.0636\n",
      "[Epoch 24] Loss: 3.8291\n",
      "[Epoch 25] Loss: 3.6385\n",
      "[Epoch 26] Loss: 3.7134\n",
      "[Epoch 27] Loss: 3.5855\n",
      "[Epoch 28] Loss: 3.7168\n",
      "[Epoch 29] Loss: 3.6984\n",
      "[Epoch 30] Loss: 3.7334\n",
      "[Epoch 31] Loss: 3.5247\n",
      "[Epoch 32] Loss: 3.5668\n",
      "[Epoch 33] Loss: 3.4682\n",
      "[Epoch 34] Loss: 3.5835\n",
      "[Epoch 35] Loss: 3.8023\n",
      "[Epoch 36] Loss: 4.0266\n",
      "[Epoch 37] Loss: 3.5207\n",
      "[Epoch 38] Loss: 3.5245\n",
      "[Epoch 39] Loss: 3.4945\n",
      "[Epoch 40] Loss: 3.4708\n",
      "[Epoch 41] Loss: 3.4640\n",
      "[Epoch 42] Loss: 3.4677\n",
      "[Epoch 43] Loss: 3.4752\n",
      "[Epoch 44] Loss: 3.5073\n",
      "[Epoch 45] Loss: 3.4552\n",
      "[Epoch 46] Loss: 3.5897\n",
      "[Epoch 47] Loss: 3.5028\n",
      "[Epoch 48] Loss: 3.7203\n",
      "[Epoch 49] Loss: 3.5476\n",
      "[Epoch 50] Loss: 3.4706\n",
      "[Epoch 51] Loss: 3.4929\n",
      "[Epoch 52] Loss: 3.4644\n",
      "[Epoch 53] Loss: 3.6131\n",
      "[Epoch 54] Loss: 3.4370\n",
      "[Epoch 55] Loss: 3.5544\n",
      "[Epoch 56] Loss: 3.4604\n",
      "[Epoch 57] Loss: 3.6788\n",
      "[Epoch 58] Loss: 3.4799\n",
      "[Epoch 59] Loss: 3.4648\n",
      "[Epoch 60] Loss: 3.7349\n",
      "[Epoch 61] Loss: 3.4313\n",
      "[Epoch 62] Loss: 3.7244\n",
      "[Epoch 63] Loss: 3.6762\n",
      "[Epoch 64] Loss: 3.5565\n",
      "[Epoch 65] Loss: 3.5130\n",
      "[Epoch 66] Loss: 3.5422\n",
      "[Epoch 67] Loss: 3.4807\n",
      "[Epoch 68] Loss: 3.7580\n",
      "[Epoch 69] Loss: 3.4465\n",
      "[Epoch 70] Loss: 3.4620\n",
      "[Epoch 71] Loss: 3.5515\n",
      "[Epoch 72] Loss: 3.6444\n",
      "[Epoch 73] Loss: 3.6501\n",
      "[Epoch 74] Loss: 3.4622\n",
      "[Epoch 75] Loss: 3.5545\n",
      "[Epoch 76] Loss: 3.4645\n",
      "[Epoch 77] Loss: 3.4379\n",
      "[Epoch 78] Loss: 3.7085\n",
      "[Epoch 79] Loss: 3.7228\n",
      "[Epoch 80] Loss: 3.4337\n",
      "[Epoch 81] Loss: 3.5260\n",
      "[Epoch 82] Loss: 3.4636\n",
      "[Epoch 83] Loss: 3.4993\n",
      "[Epoch 84] Loss: 3.5903\n",
      "[Epoch 85] Loss: 3.4610\n",
      "[Epoch 86] Loss: 3.7699\n",
      "[Epoch 87] Loss: 3.4939\n",
      "[Epoch 88] Loss: 3.7633\n",
      "[Epoch 89] Loss: 3.4663\n",
      "[Epoch 90] Loss: 3.8631\n",
      "[Epoch 91] Loss: 3.9990\n",
      "[Epoch 92] Loss: 3.6953\n",
      "[Epoch 93] Loss: 3.4626\n",
      "[Epoch 94] Loss: 3.4807\n",
      "[Epoch 95] Loss: 3.5821\n",
      "[Epoch 96] Loss: 3.7170\n",
      "[Epoch 97] Loss: 3.9061\n",
      "[Epoch 98] Loss: 3.6754\n",
      "[Epoch 99] Loss: 3.7458\n",
      "[Epoch 100] Loss: 3.4581\n"
     ]
    }
   ],
   "source": [
    "NUM_EPOCHS = 100\n",
    "# create the network.\n",
    "net = LinearClassifier()\n",
    "\n",
    "# create the optimizer.\n",
    "optimizer = Adam(net.parameters(), lr=0.1)\n",
    "\n",
    "best_accuracy = 0\n",
    "for epoch_idx in range(NUM_EPOCHS):\n",
    "    loss = train(net, optimizer, train_dataloader, epoch_idx)\n",
    "    print('[Epoch %02d] Loss: %.4f' % (epoch_idx + 1, loss))"
   ]
  },
  {
   "cell_type": "markdown",
   "metadata": {},
   "source": [
    "Now plot your result below.\n"
   ]
  },
  {
   "cell_type": "code",
   "execution_count": null,
   "metadata": {},
   "outputs": [],
   "source": []
  },
  {
   "cell_type": "code",
   "execution_count": 7,
   "metadata": {},
   "outputs": [
    {
     "data": {
      "image/png": "[encoded data removed]",
      "text/plain": [
       "<Figure size 432x288 with 1 Axes>"
      ]
     },
     "metadata": {
      "needs_background": "light"
     },
     "output_type": "display_data"
    },
    {
     "data": {
      "text/plain": [
       "<Figure size 432x288 with 0 Axes>"
      ]
     },
     "metadata": {},
     "output_type": "display_data"
    }
   ],
   "source": [
    "p = np.linspace(-0.5, 0.5, 500)\n",
    "x_plot, y_plot = np.meshgrid(p, p)\n",
    "X_plot = np.stack((x_plot, y_plot), axis=2).reshape(-1, 2)\n",
    "X_plot = torch.from_numpy(X_plot).float()\n",
    "output = net(X_plot)\n",
    "output = output.detach().numpy()\n",
    "output = output.reshape(x_plot.shape[0], x_plot.shape[1])\n",
    "\n",
    "plt.contour(x_plot, y_plot, output, [0.5],\n",
    "                  colors=('k',),\n",
    "                  linewidths=(3,))\n",
    "plot(X0, X1)\n"
   ]
  },
  {
   "cell_type": "markdown",
   "metadata": {},
   "source": [
    "### Implement your first multi-layer perceptron (MLP) for point cloud classification\n",
    "Now you should notice that your logistic regression model cannot classify the point cloud correctly, and this is as expected :)  \n",
    "Therefore, we now ask you to implement an MLP for the same binary classification task."
   ]
  },
  {
   "cell_type": "code",
   "execution_count": 8,
   "metadata": {},
   "outputs": [],
   "source": [
    "# These are the parameters to be used\n",
    "nInput = 2\n",
    "nOutput = 1\n",
    "nHidden = 16\n",
    "act_fn = nn.ReLU()\n",
    "\n",
    "class MLP(nn.Module):\n",
    "    def __init__(self, nInput, nOutput, nHidden, act_fn):\n",
    "        super().__init__()\n",
    "\n",
    "        # Define the network layers in order.\n",
    "        # Input is 2D (nInput).\n",
    "        # Output is a single value (nOutput).\n",
    "        # Multiple linear layers each followed by a ReLU non-linearity (apart from the last).\n",
    "        #########################################################################\n",
    "        # TODO: add a two-layer MLP, inside the `nn.Sequential` call.\n",
    "        # Input is 2D.\n",
    "        # Output is a single value.\n",
    "\n",
    "        # Hint: unlike logistic regression where you need only one nn.Linear layer, \n",
    "        # here you will have two nn.Linear layers. After the first layer, we \n",
    "        # apply a ReLU activation function. The output is then passed to another \n",
    "        # linear layer. Note that you should use `nHidden` below as the hidden dimension \n",
    "        # of your linear layers.\n",
    "        #########################################################################\n",
    "        self.model = nn.Sequential(nn.Linear(2,2),\n",
    "                                  nn.ReLU(),\n",
    "                                  nn.Linear(2,1),\n",
    "                                  )\n",
    "        \n",
    "    def forward(self, batch):\n",
    "        # Process batch using the defined model.\n",
    "        x = self.model(batch)\n",
    "        # Final sigmoid activation to obtain a probability.\n",
    "        return torch.sigmoid(x)\n"
   ]
  },
  {
   "cell_type": "markdown",
   "metadata": {},
   "source": [
    "Run below again!"
   ]
  },
  {
   "cell_type": "code",
   "execution_count": 9,
   "metadata": {},
   "outputs": [
    {
     "name": "stdout",
     "output_type": "stream",
     "text": [
      "[Epoch 01] Loss: 9.1557\n",
      "[Epoch 02] Loss: 8.4525\n",
      "[Epoch 03] Loss: 7.0182\n",
      "[Epoch 04] Loss: 5.5361\n",
      "[Epoch 05] Loss: 5.1079\n",
      "[Epoch 06] Loss: 4.1866\n",
      "[Epoch 07] Loss: 4.1781\n",
      "[Epoch 08] Loss: 3.8217\n",
      "[Epoch 09] Loss: 3.7565\n",
      "[Epoch 10] Loss: 3.9677\n",
      "[Epoch 11] Loss: 3.8251\n",
      "[Epoch 12] Loss: 3.6521\n",
      "[Epoch 13] Loss: 4.1495\n",
      "[Epoch 14] Loss: 3.7883\n",
      "[Epoch 15] Loss: 3.8501\n",
      "[Epoch 16] Loss: 3.7016\n",
      "[Epoch 17] Loss: 4.0800\n",
      "[Epoch 18] Loss: 3.8797\n",
      "[Epoch 19] Loss: 3.7892\n",
      "[Epoch 20] Loss: 3.7421\n",
      "[Epoch 21] Loss: 3.6738\n",
      "[Epoch 22] Loss: 4.0224\n",
      "[Epoch 23] Loss: 3.7584\n",
      "[Epoch 24] Loss: 3.5909\n",
      "[Epoch 25] Loss: 3.6920\n",
      "[Epoch 26] Loss: 3.6582\n",
      "[Epoch 27] Loss: 3.8436\n",
      "[Epoch 28] Loss: 3.9248\n",
      "[Epoch 29] Loss: 3.7970\n",
      "[Epoch 30] Loss: 3.5730\n",
      "[Epoch 31] Loss: 3.9405\n",
      "[Epoch 32] Loss: 3.6143\n",
      "[Epoch 33] Loss: 3.7329\n",
      "[Epoch 34] Loss: 3.6158\n",
      "[Epoch 35] Loss: 3.6622\n",
      "[Epoch 36] Loss: 3.6427\n",
      "[Epoch 37] Loss: 3.7548\n",
      "[Epoch 38] Loss: 3.6943\n",
      "[Epoch 39] Loss: 3.6345\n",
      "[Epoch 40] Loss: 3.6926\n",
      "[Epoch 41] Loss: 3.8958\n",
      "[Epoch 42] Loss: 3.5456\n",
      "[Epoch 43] Loss: 3.6103\n",
      "[Epoch 44] Loss: 4.0677\n",
      "[Epoch 45] Loss: 3.7907\n",
      "[Epoch 46] Loss: 3.5062\n",
      "[Epoch 47] Loss: 3.5275\n",
      "[Epoch 48] Loss: 3.8226\n",
      "[Epoch 49] Loss: 3.9126\n",
      "[Epoch 50] Loss: 3.4687\n",
      "[Epoch 51] Loss: 4.3501\n",
      "[Epoch 52] Loss: 3.9167\n",
      "[Epoch 53] Loss: 3.6178\n",
      "[Epoch 54] Loss: 3.6423\n",
      "[Epoch 55] Loss: 3.6337\n",
      "[Epoch 56] Loss: 3.9087\n",
      "[Epoch 57] Loss: 4.0740\n",
      "[Epoch 58] Loss: 3.9361\n",
      "[Epoch 59] Loss: 4.3572\n",
      "[Epoch 60] Loss: 3.9269\n",
      "[Epoch 61] Loss: 3.7282\n",
      "[Epoch 62] Loss: 3.5134\n",
      "[Epoch 63] Loss: 3.7157\n",
      "[Epoch 64] Loss: 3.5159\n",
      "[Epoch 65] Loss: 3.6200\n",
      "[Epoch 66] Loss: 3.6518\n",
      "[Epoch 67] Loss: 3.6706\n",
      "[Epoch 68] Loss: 3.6814\n",
      "[Epoch 69] Loss: 3.6805\n",
      "[Epoch 70] Loss: 3.7762\n",
      "[Epoch 71] Loss: 3.6610\n",
      "[Epoch 72] Loss: 3.9107\n",
      "[Epoch 73] Loss: 4.3483\n",
      "[Epoch 74] Loss: 4.0580\n",
      "[Epoch 75] Loss: 3.7016\n",
      "[Epoch 76] Loss: 3.5701\n",
      "[Epoch 77] Loss: 3.7521\n",
      "[Epoch 78] Loss: 4.0175\n",
      "[Epoch 79] Loss: 3.5200\n",
      "[Epoch 80] Loss: 3.8887\n",
      "[Epoch 81] Loss: 3.5274\n",
      "[Epoch 82] Loss: 3.5445\n",
      "[Epoch 83] Loss: 3.5832\n",
      "[Epoch 84] Loss: 3.7399\n",
      "[Epoch 85] Loss: 3.7334\n",
      "[Epoch 86] Loss: 3.9071\n",
      "[Epoch 87] Loss: 3.5820\n",
      "[Epoch 88] Loss: 3.7663\n",
      "[Epoch 89] Loss: 3.6541\n",
      "[Epoch 90] Loss: 3.7270\n",
      "[Epoch 91] Loss: 3.5390\n",
      "[Epoch 92] Loss: 3.7835\n",
      "[Epoch 93] Loss: 3.7138\n",
      "[Epoch 94] Loss: 3.6879\n",
      "[Epoch 95] Loss: 3.6048\n",
      "[Epoch 96] Loss: 3.6166\n",
      "[Epoch 97] Loss: 3.4569\n",
      "[Epoch 98] Loss: 3.7325\n",
      "[Epoch 99] Loss: 3.5977\n",
      "[Epoch 100] Loss: 3.4959\n",
      "[Epoch 101] Loss: 3.7417\n",
      "[Epoch 102] Loss: 3.6974\n",
      "[Epoch 103] Loss: 3.5180\n",
      "[Epoch 104] Loss: 3.5625\n",
      "[Epoch 105] Loss: 3.5227\n",
      "[Epoch 106] Loss: 3.5029\n",
      "[Epoch 107] Loss: 3.5238\n",
      "[Epoch 108] Loss: 3.6774\n",
      "[Epoch 109] Loss: 3.5793\n",
      "[Epoch 110] Loss: 3.6975\n",
      "[Epoch 111] Loss: 3.6463\n",
      "[Epoch 112] Loss: 3.7920\n",
      "[Epoch 113] Loss: 3.9209\n",
      "[Epoch 114] Loss: 4.1000\n",
      "[Epoch 115] Loss: 4.0129\n",
      "[Epoch 116] Loss: 3.8967\n",
      "[Epoch 117] Loss: 3.7622\n",
      "[Epoch 118] Loss: 3.8956\n",
      "[Epoch 119] Loss: 3.5726\n",
      "[Epoch 120] Loss: 3.6567\n",
      "[Epoch 121] Loss: 3.7213\n",
      "[Epoch 122] Loss: 3.5546\n",
      "[Epoch 123] Loss: 3.4967\n",
      "[Epoch 124] Loss: 3.7112\n",
      "[Epoch 125] Loss: 3.7158\n",
      "[Epoch 126] Loss: 3.6854\n",
      "[Epoch 127] Loss: 3.6220\n",
      "[Epoch 128] Loss: 3.6208\n",
      "[Epoch 129] Loss: 3.9957\n",
      "[Epoch 130] Loss: 3.9158\n",
      "[Epoch 131] Loss: 3.9244\n",
      "[Epoch 132] Loss: 3.7746\n",
      "[Epoch 133] Loss: 3.5665\n",
      "[Epoch 134] Loss: 3.7102\n",
      "[Epoch 135] Loss: 3.4820\n",
      "[Epoch 136] Loss: 3.6289\n",
      "[Epoch 137] Loss: 3.7075\n",
      "[Epoch 138] Loss: 3.6075\n",
      "[Epoch 139] Loss: 3.9871\n",
      "[Epoch 140] Loss: 3.5544\n",
      "[Epoch 141] Loss: 3.6421\n",
      "[Epoch 142] Loss: 3.8376\n",
      "[Epoch 143] Loss: 3.5173\n",
      "[Epoch 144] Loss: 3.9595\n",
      "[Epoch 145] Loss: 3.7095\n",
      "[Epoch 146] Loss: 3.7572\n",
      "[Epoch 147] Loss: 3.4879\n",
      "[Epoch 148] Loss: 3.6734\n",
      "[Epoch 149] Loss: 3.8005\n",
      "[Epoch 150] Loss: 3.7829\n",
      "[Epoch 151] Loss: 3.5958\n",
      "[Epoch 152] Loss: 3.8066\n",
      "[Epoch 153] Loss: 3.5597\n",
      "[Epoch 154] Loss: 3.5618\n",
      "[Epoch 155] Loss: 3.6624\n",
      "[Epoch 156] Loss: 3.5894\n",
      "[Epoch 157] Loss: 3.7363\n",
      "[Epoch 158] Loss: 3.4528\n",
      "[Epoch 159] Loss: 3.6108\n",
      "[Epoch 160] Loss: 3.9006\n",
      "[Epoch 161] Loss: 3.7911\n",
      "[Epoch 162] Loss: 3.7857\n",
      "[Epoch 163] Loss: 3.8180\n",
      "[Epoch 164] Loss: 3.6543\n",
      "[Epoch 165] Loss: 3.5828\n",
      "[Epoch 166] Loss: 3.5174\n",
      "[Epoch 167] Loss: 3.6475\n",
      "[Epoch 168] Loss: 3.4758\n",
      "[Epoch 169] Loss: 3.6175\n",
      "[Epoch 170] Loss: 3.5975\n",
      "[Epoch 171] Loss: 3.4762\n",
      "[Epoch 172] Loss: 3.6439\n",
      "[Epoch 173] Loss: 3.6043\n",
      "[Epoch 174] Loss: 3.6011\n",
      "[Epoch 175] Loss: 3.6847\n",
      "[Epoch 176] Loss: 3.7393\n",
      "[Epoch 177] Loss: 3.6832\n",
      "[Epoch 178] Loss: 3.5656\n",
      "[Epoch 179] Loss: 3.6839\n",
      "[Epoch 180] Loss: 3.7046\n",
      "[Epoch 181] Loss: 4.0402\n",
      "[Epoch 182] Loss: 3.9767\n",
      "[Epoch 183] Loss: 3.9425\n",
      "[Epoch 184] Loss: 3.3941\n",
      "[Epoch 185] Loss: 3.8038\n",
      "[Epoch 186] Loss: 3.7263\n",
      "[Epoch 187] Loss: 3.8598\n",
      "[Epoch 188] Loss: 3.8002\n",
      "[Epoch 189] Loss: 3.8205\n",
      "[Epoch 190] Loss: 4.0129\n",
      "[Epoch 191] Loss: 3.7078\n",
      "[Epoch 192] Loss: 3.4939\n",
      "[Epoch 193] Loss: 3.5965\n",
      "[Epoch 194] Loss: 3.5341\n",
      "[Epoch 195] Loss: 3.8471\n",
      "[Epoch 196] Loss: 3.4998\n",
      "[Epoch 197] Loss: 3.8907\n",
      "[Epoch 198] Loss: 3.7058\n",
      "[Epoch 199] Loss: 3.5321\n",
      "[Epoch 200] Loss: 3.5192\n"
     ]
    }
   ],
   "source": [
    "NUM_EPOCHS = 200\n",
    "\n",
    "# create the network.\n",
    "net = MLP(nInput, nOutput, nHidden, act_fn)\n",
    "\n",
    "# create the optimizer.\n",
    "optimizer = Adam(net.parameters(), lr=0.1)\n",
    "\n",
    "best_accuracy = 0\n",
    "for epoch_idx in range(NUM_EPOCHS):\n",
    "    loss = train(net, optimizer, train_dataloader, epoch_idx)\n",
    "    print('[Epoch %02d] Loss: %.4f' % (epoch_idx + 1, loss))"
   ]
  },
  {
   "cell_type": "markdown",
   "metadata": {},
   "source": [
    "Again plot your result. You should see that the decision boundary can clearly separate the point clouds.\n"
   ]
  },
  {
   "cell_type": "code",
   "execution_count": 10,
   "metadata": {},
   "outputs": [
    {
     "data": {
      "image/png": "[encoded data removed]",
      "text/plain": [
       "<Figure size 432x288 with 1 Axes>"
      ]
     },
     "metadata": {
      "needs_background": "light"
     },
     "output_type": "display_data"
    },
    {
     "data": {
      "text/plain": [
       "<Figure size 432x288 with 0 Axes>"
      ]
     },
     "metadata": {},
     "output_type": "display_data"
    }
   ],
   "source": [
    "p = np.linspace(-0.5, 0.5, 500)\n",
    "x_plot, y_plot = np.meshgrid(p, p)\n",
    "X_plot = np.stack((x_plot, y_plot), axis=2).reshape(-1, 2)\n",
    "X_plot = torch.from_numpy(X_plot).float()\n",
    "output = net(X_plot)\n",
    "output = output.detach().numpy()\n",
    "output = output.reshape(x_plot.shape[0], x_plot.shape[1])\n",
    "\n",
    "plt.contour(x_plot, y_plot, output, [0.5],\n",
    "                  colors=('k',),\n",
    "                  linewidths=(3,))\n",
    "plot(X0, X1)"
   ]
  },
  {
   "cell_type": "markdown",
   "metadata": {},
   "source": [
    "When you are done, move forward to `image_classification.ipynb`."
   ]
  },
  {
   "cell_type": "markdown",
   "metadata": {},
   "source": []
  }
 ],
 "metadata": {
  "kernelspec": {
   "display_name": "Python 3 (ipykernel)",
   "language": "python",
   "name": "python3"
  },
  "language_info": {
   "codemirror_mode": {
    "name": "ipython",
    "version": 3
   },
   "file_extension": ".py",
   "mimetype": "text/x-python",
   "name": "python",
   "nbconvert_exporter": "python",
   "pygments_lexer": "ipython3",
   "version": "3.9.7"
  },
  "varInspector": {
   "cols": {
    "lenName": 16,
    "lenType": 16,
    "lenVar": 40
   },
   "kernels_config": {
    "python": {
     "delete_cmd_postfix": "",
     "delete_cmd_prefix": "del ",
     "library": "var_list.py",
     "varRefreshCmd": "print(var_dic_list())"
    },
    "r": {
     "delete_cmd_postfix": ") ",
     "delete_cmd_prefix": "rm(",
     "library": "var_list.r",
     "varRefreshCmd": "cat(var_dic_list()) "
    }
   },
   "position": {
    "height": "372.844px",
    "left": "1400px",
    "right": "20px",
    "top": "259px",
    "width": "282px"
   },
   "types_to_exclude": [
    "module",
    "function",
    "builtin_function_or_method",
    "instance",
    "_Feature"
   ],
   "window_display": true
  },
  "vscode": {
   "interpreter": {
    "hash": "d268b61a0efacafa8645774cb6d0204c9f01d7563ef03f7672146d044e8f345c"
   }
  }
 },
 "nbformat": 4,
 "nbformat_minor": 4
}
